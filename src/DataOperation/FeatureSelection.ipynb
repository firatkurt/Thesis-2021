{
 "cells": [
  {
   "cell_type": "code",
   "execution_count": 1,
   "metadata": {},
   "outputs": [],
   "source": [
    "from sklearn.feature_selection import SelectKBest, f_classif\n",
    "from sklearn.feature_selection import RFE\n",
    "from sklearn.feature_selection import SelectFromModel\n",
    "from sklearn.ensemble import RandomForestClassifier\n",
    "from sklearn.decomposition import PCA\n",
    "import FeatureSelection\n",
    "import pandas as pd\n",
    "import numpy as nm"
   ]
  },
  {
   "cell_type": "code",
   "execution_count": 2,
   "metadata": {},
   "outputs": [],
   "source": [
    "\n",
    "class FeatureSelection:\n",
    "\n",
    "\n",
    "    def __init__ (self, X, y):\n",
    "        self.X = X\n",
    "        self.y = y\n",
    "\n",
    "    def GetViaSelectKBest(self, n):\n",
    "        self.k_best = SelectKBest(score_func=f_classif, k=n)\n",
    "        fit = self.k_best.fit(self.X, self.y)\n",
    "        univariate_features = fit.transform(self.X)\n",
    "        mask = self.k_best.get_support() \n",
    "        new_features = [] \n",
    "        for bool, feature in zip(mask, self.X.columns):\n",
    "            if bool:\n",
    "                new_features.append(feature)\n",
    "\n",
    "        return new_features\n",
    "    \n",
    "\n",
    "    def GetViaRFE(self, n):\n",
    "        rfc = RandomForestClassifier(n_estimators=100)\n",
    "        rfe = RFE(rfc, n_features_to_select=n)\n",
    "        model = rfe.fit(self.X, self.y)\n",
    "        model.transform(self.X)\n",
    "        feature_idx = model.get_support()\n",
    "        feature_name = X.columns[feature_idx]\n",
    "        return feature_name\n",
    "\n",
    "\n",
    "    def GetViaFeatureSelection(self, n):\n",
    "        rfc = RandomForestClassifier(n_estimators=100)\n",
    "        select_model = SelectFromModel(rfc, max_features = n)\n",
    "        model = select_model.fit(self.X, self.y)\n",
    "        model.transform(self.X)\n",
    "        feature_idx = model.get_support()\n",
    "        feature_name = X.columns[feature_idx]\n",
    "        return feature_name"
   ]
  },
  {
   "cell_type": "code",
   "execution_count": 7,
   "metadata": {},
   "outputs": [
    {
     "name": "stdout",
     "output_type": "stream",
     "text": [
      "900\n",
      "56909\n"
     ]
    }
   ],
   "source": [
    "df = pd.read_csv(\"C:\\\\Users\\\\FIRAT.KURT\\\\Documents\\\\Thesis_2021\\\\TrainData.csv\")\n",
    "print(len(df.values))\n",
    "print(len(df.columns))\n",
    "X = df.iloc[:,1:-1]\n",
    "y = df.Subtype"
   ]
  },
  {
   "cell_type": "code",
   "execution_count": 4,
   "metadata": {},
   "outputs": [
    {
     "name": "stdout",
     "output_type": "stream",
     "text": [
      "Index(['Unnamed: 0', 'A1BG', 'A1BG-AS1', 'A1CF', 'A2M', 'A2M-AS1', 'A2ML1',\n",
      "       'A2ML1-AS1', 'A2ML1-AS2', 'A2MP1',\n",
      "       ...\n",
      "       'ZXDA', 'ZXDB', 'ZXDC', 'ZYG11A', 'ZYG11AP1', 'ZYG11B', 'ZYX', 'ZYXP1',\n",
      "       'ZZEF1', 'Subtype'],\n",
      "      dtype='object', length=56909)\n"
     ]
    }
   ],
   "source": [
    "print(df.columns)"
   ]
  },
  {
   "cell_type": "code",
   "execution_count": 5,
   "metadata": {},
   "outputs": [
    {
     "name": "stderr",
     "output_type": "stream",
     "text": [
      "C:\\Users\\FIRAT.KURT\\Anaconda3\\lib\\site-packages\\sklearn\\feature_selection\\_univariate_selection.py:114: UserWarning: Features [  118   160   166 ... 56697 56839 56840] are constant.\n",
      "  warnings.warn(\"Features %s are constant.\" % constant_features_idx,\n",
      "C:\\Users\\FIRAT.KURT\\Anaconda3\\lib\\site-packages\\sklearn\\feature_selection\\_univariate_selection.py:116: RuntimeWarning: invalid value encountered in true_divide\n",
      "  f = msb / msw\n"
     ]
    },
    {
     "name": "stdout",
     "output_type": "stream",
     "text": [
      "500\n",
      "Index(['BCL11A', 'CAVIN2', 'CCNB2', 'CD300LG', 'CENPA', 'CEP55', 'FOXA1',\n",
      "       'FOXC1', 'FOXM1', 'GATA3', 'LINC02188', 'MCM10', 'RGMA', 'SFRP1',\n",
      "       'SGO1', 'SKA1', 'SPRY2', 'TPX2', 'TSLP', 'VEGFD'],\n",
      "      dtype='object')\n",
      "Index(['ANXA1', 'B3GNT5', 'BCL11A', 'CENPA', 'CEP55', 'FOXA1', 'FOXC1',\n",
      "       'GABRP', 'GATA3', 'LINC02188', 'MCM10', 'MME', 'MPP6', 'NDC80', 'RGMA',\n",
      "       'SFRP1', 'SGO1', 'SRSF12', 'TPX2', 'TTK'],\n",
      "      dtype='object')\n"
     ]
    }
   ],
   "source": [
    "\n",
    "fs = FeatureSelection(X,y)\n",
    "features = fs.GetViaSelectKBest(750)\n",
    "print(len(features))\n",
    "X = X[features]\n",
    "fs = FeatureSelection(X,y)\n",
    "features = fs.GetViaRFE(20)\n",
    "print(features)\n",
    "features = fs.GetViaFeatureSelection(20)\n",
    "print(features)\n"
   ]
  },
  {
   "cell_type": "code",
   "execution_count": null,
   "metadata": {},
   "outputs": [],
   "source": []
  },
  {
   "cell_type": "code",
   "execution_count": 8,
   "metadata": {},
   "outputs": [
    {
     "name": "stderr",
     "output_type": "stream",
     "text": [
      "C:\\Users\\FIRAT.KURT\\Anaconda3\\lib\\site-packages\\sklearn\\feature_selection\\_univariate_selection.py:114: UserWarning: Features [  118   160   166 ... 56697 56839 56840] are constant.\n",
      "  warnings.warn(\"Features %s are constant.\" % constant_features_idx,\n",
      "C:\\Users\\FIRAT.KURT\\Anaconda3\\lib\\site-packages\\sklearn\\feature_selection\\_univariate_selection.py:116: RuntimeWarning: invalid value encountered in true_divide\n",
      "  f = msb / msw\n",
      "C:\\Users\\FIRAT.KURT\\Anaconda3\\lib\\site-packages\\sklearn\\feature_selection\\_univariate_selection.py:114: UserWarning: Features [  118   160   166 ... 56697 56839 56840] are constant.\n",
      "  warnings.warn(\"Features %s are constant.\" % constant_features_idx,\n",
      "C:\\Users\\FIRAT.KURT\\Anaconda3\\lib\\site-packages\\sklearn\\feature_selection\\_univariate_selection.py:116: RuntimeWarning: invalid value encountered in true_divide\n",
      "  f = msb / msw\n",
      "C:\\Users\\FIRAT.KURT\\Anaconda3\\lib\\site-packages\\sklearn\\feature_selection\\_univariate_selection.py:114: UserWarning: Features [  118   160   166 ... 56697 56839 56840] are constant.\n",
      "  warnings.warn(\"Features %s are constant.\" % constant_features_idx,\n",
      "C:\\Users\\FIRAT.KURT\\Anaconda3\\lib\\site-packages\\sklearn\\feature_selection\\_univariate_selection.py:116: RuntimeWarning: invalid value encountered in true_divide\n",
      "  f = msb / msw\n",
      "C:\\Users\\FIRAT.KURT\\Anaconda3\\lib\\site-packages\\sklearn\\feature_selection\\_univariate_selection.py:114: UserWarning: Features [  118   160   166 ... 56697 56839 56840] are constant.\n",
      "  warnings.warn(\"Features %s are constant.\" % constant_features_idx,\n",
      "C:\\Users\\FIRAT.KURT\\Anaconda3\\lib\\site-packages\\sklearn\\feature_selection\\_univariate_selection.py:116: RuntimeWarning: invalid value encountered in true_divide\n",
      "  f = msb / msw\n",
      "C:\\Users\\FIRAT.KURT\\Anaconda3\\lib\\site-packages\\sklearn\\feature_selection\\_univariate_selection.py:114: UserWarning: Features [  118   160   166 ... 56697 56839 56840] are constant.\n",
      "  warnings.warn(\"Features %s are constant.\" % constant_features_idx,\n",
      "C:\\Users\\FIRAT.KURT\\Anaconda3\\lib\\site-packages\\sklearn\\feature_selection\\_univariate_selection.py:116: RuntimeWarning: invalid value encountered in true_divide\n",
      "  f = msb / msw\n"
     ]
    },
    {
     "name": "stdout",
     "output_type": "stream",
     "text": [
      "KBest and FeatureSelection Completed\n"
     ]
    },
    {
     "name": "stderr",
     "output_type": "stream",
     "text": [
      "C:\\Users\\FIRAT.KURT\\Anaconda3\\lib\\site-packages\\sklearn\\feature_selection\\_univariate_selection.py:114: UserWarning: Features [  118   160   166 ... 56697 56839 56840] are constant.\n",
      "  warnings.warn(\"Features %s are constant.\" % constant_features_idx,\n",
      "C:\\Users\\FIRAT.KURT\\Anaconda3\\lib\\site-packages\\sklearn\\feature_selection\\_univariate_selection.py:116: RuntimeWarning: invalid value encountered in true_divide\n",
      "  f = msb / msw\n"
     ]
    }
   ],
   "source": [
    "feature_counts = (20,25,30,50,100)\n",
    "feature_dict = {}\n",
    "fs = FeatureSelection(X,y)\n",
    "for i in feature_counts:\n",
    "    features = fs.GetViaSelectKBest(i)\n",
    "    feature_dict[\"SelectKBest_\" + str(i)] = features\n",
    "    features = fs.GetViaFeatureSelection(i)\n",
    "    feature_dict[\"FeatureSelection_\" + str(i)] = features\n",
    "print(\"KBest and FeatureSelection Completed\")\n",
    "fs = FeatureSelection(X,y)\n",
    "features = fs.GetViaSelectKBest(750)\n",
    "X = X[features]\n",
    "fs = FeatureSelection(X,y)\n",
    "for i in feature_counts:    \n",
    "    features = fs.GetViaRFE(i)\n",
    "    feature_dict[\"RFE_\" + str(i)] = features\n",
    "\n",
    "\n"
   ]
  },
  {
   "cell_type": "code",
   "execution_count": 9,
   "metadata": {},
   "outputs": [],
   "source": [
    "for k,v in feature_dict.items():\n",
    "    selectedData = df[v]\n",
    "    result = pd.concat([selectedData, y], axis=1)\n",
    "    result.to_csv(\"..\\\\TrainDatas\\\\\" + k + \".csv\",index=False)"
   ]
  },
  {
   "cell_type": "code",
   "execution_count": 10,
   "metadata": {},
   "outputs": [],
   "source": [
    "import csv\n",
    "with open('FeatureList.csv', 'w') as csv_file:  \n",
    "    writer = csv.writer(csv_file)\n",
    "    for key, value in feature_dict.items():\n",
    "       writer.writerow([key, value])\n"
   ]
  }
 ],
 "metadata": {
  "interpreter": {
   "hash": "6b89374243ff63cd660e30f2631bca1860c901eabc2f259f1e518e77cf1ca8e5"
  },
  "kernelspec": {
   "display_name": "Python 3.8.8 64-bit ('base': conda)",
   "name": "python3"
  },
  "language_info": {
   "codemirror_mode": {
    "name": "ipython",
    "version": 3
   },
   "file_extension": ".py",
   "mimetype": "text/x-python",
   "name": "python",
   "nbconvert_exporter": "python",
   "pygments_lexer": "ipython3",
   "version": "3.8.8"
  },
  "orig_nbformat": 4
 },
 "nbformat": 4,
 "nbformat_minor": 2
}
