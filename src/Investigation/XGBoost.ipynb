{
 "cells": [
  {
   "cell_type": "code",
   "execution_count": 9,
   "id": "d6004038-42e6-4570-a31b-e5536b07f1dc",
   "metadata": {},
   "outputs": [],
   "source": [
    "import pandas as pd\n",
    "import numpy as np\n",
    "from sklearn.model_selection import train_test_split\n",
    "from sklearn.preprocessing import MinMaxScaler\n",
    "from sklearn.preprocessing import LabelEncoder\n",
    "from xgboost import XGBClassifier\n",
    "from sklearn.metrics import mean_squared_error\n",
    "from sklearn.model_selection import RepeatedKFold\n",
    "from sklearn.metrics import accuracy_score\n"
   ]
  },
  {
   "cell_type": "code",
   "execution_count": 97,
   "id": "03525475-f668-4574-a8fa-254c476ce2ed",
   "metadata": {},
   "outputs": [],
   "source": [
    "\n",
    "#Most popular 10 feature \n",
    "\n",
    "featureList = ['ABCA10', 'ADAMTS5', 'ANXA1', 'MAGI2-AS3', 'PAMR1', 'SCN4B', 'SPRY2', 'TMEM220', 'TSLP', 'VEGFD']\n"
   ]
  },
  {
   "cell_type": "code",
   "execution_count": 89,
   "id": "88433a44-6dce-40a5-8986-3b7aa1a7dae4",
   "metadata": {},
   "outputs": [],
   "source": [
    "#Most popular 20 feature \n",
    "featureList = ['ABCA10', 'ADAMTS5', 'ANXA1', 'ARHGAP20', 'CAVIN2', 'JAM2', 'LDB2', 'LIFR', 'MAGI2-AS3', 'MIR99AHG', 'PAMR1', 'PDE2A', 'PLPP3', 'RBMS3',\n",
    "               'SCN4B', 'SPRY2', 'STARD9', 'TMEM220', 'TSLP', 'VEGFD']\n"
   ]
  },
  {
   "cell_type": "code",
   "execution_count": 82,
   "id": "f5dde6e3-5999-482a-b448-b9fbca201908",
   "metadata": {},
   "outputs": [],
   "source": [
    "#Most popular 50 feature \n",
    "featureList = ['ABCA10', 'AC009806.1', 'AC100771.2', 'ADAM33', 'ADAMTS5', 'ADAMTS9-AS2', 'ADCYAP1R1', 'ANXA1', 'ARHGAP20', 'CACHD1', 'CAV2', 'CAVIN2', 'CD300LG', 'CDC14B',\n",
    "               'CDC20', 'CNTNAP3P2', 'CORO2B', 'DST', 'EZH1', 'FAM126A', 'FAM13C', 'FAM171A1', 'GIPC2', 'IGSF10', 'JAM2', 'LDB2', 'LHFPL6', 'LIFR', 'LINC01537', 'LMOD1', \n",
    "               'MAGI2-AS3', 'MAMDC2', 'MIR99AHG', 'MME', 'PAMR1', 'PDE2A', 'PGM5P4', 'PLPP3', 'PLSCR4', 'PPP1R12B', 'RBMS3', 'SCN4B', 'SPRY2', 'STARD9', 'TCEAL7', 'TGFBR2', \n",
    "               'TMEM220', 'TSLP', 'TTC28', 'VEGFD']\n"
   ]
  },
  {
   "cell_type": "code",
   "execution_count": 69,
   "id": "ed4177d0-0e64-45c3-a0f2-ecc16ba04c73",
   "metadata": {},
   "outputs": [],
   "source": [
    "#Most popular 100 feature \n",
    "\n",
    "featureList = ['ABCA10', 'ABCA6', 'ABCA9', 'AC007938.1', 'AC009806.1', 'AC015908.3', 'AC092376.2', 'AC096921.2', 'AC100771.2', 'AC107959.1', 'ADAM33', 'ADAMTS5', \n",
    "               'ADAMTS9-AS2', 'ADCYAP1R1', 'ADRB2', 'AL513303.1', 'ANXA1', 'ARHGAP20', 'C1QTNF9', 'CACHD1', 'CARMN', 'CAV1', 'CAV2', 'CAVIN2', 'CCDC82', 'CCL14', \n",
    "               'CD300LG', 'CD34', 'CDC14B', 'CDC20', 'CEP112', 'CEP68', 'CLDN11', 'CNTNAP3P2', 'CORO2B', 'CXorf36', 'DMD', 'DST', 'EZH1', 'FAM126A', 'FAM13C', 'FAM171A1', \n",
    "               'FAM49A', 'FGF1', 'FOXA1', 'GIPC2', 'GNG12-AS1', 'GPRASP1', 'HJURP', 'HOXA4', 'IGSF10', 'IL33', 'ITPRIPL1', 'JAM2', 'KLHL29', 'LDB2', 'LHFPL6', 'LIFR', \n",
    "               'LIMS2', 'LINC00377', 'LINC01537', 'LINC02185', 'LINC02202', 'LMOD1', 'LRRN4CL', 'MAB21L1', 'MAGI2-AS3', 'MAMDC2', 'MAML2', 'MICU3', 'MIR99AHG', 'MME', \n",
    "               'MRAS', 'PALMD', 'PAMR1', 'PDE2A', 'PEAR1', 'PGM5P4', 'PLK1', 'PLPP3', 'PLSCR4', 'PPIAP39', 'PPP1R12B', 'RBMS3', 'RBMS3-AS3', 'RGMA', 'SCN4B', 'SFT2D2',\n",
    "               'SLIT3', 'SPARCL1', 'SPRY2', 'SRPX', 'STARD9', 'TCEAL7', 'TGFBR2', 'TMEM220', 'TNS2', 'TSLP', 'TTC28', 'VEGFD']\n"
   ]
  },
  {
   "cell_type": "code",
   "execution_count": 37,
   "id": "fec47cac-e176-4376-bdbc-bb95f53bf9ea",
   "metadata": {},
   "outputs": [],
   "source": [
    "#Most popular 200 feature \n",
    "featureList = ['ABCA10', 'ABCA6', 'ABCA8', 'ABCA9', 'AC007938.1', 'AC009806.1', 'AC015908.3', 'AC092376.2', 'AC096921.2', 'AC098617.1', 'AC100771.2', 'AC107959.1', 'ADAM33',\n",
    "               'ADAMTS5', 'ADAMTS9-AS2', 'ADCYAP1R1', 'ADRB2', 'AL445426.1', 'AL513303.1', 'ANGPTL1', 'ANP32E', 'ANXA1', 'AP001528.3', 'AP002026.1', 'AQP1', 'ARHGAP20',\n",
    "               'ASPA', 'AURKB', 'BMX', 'BTNL9', 'BUB1', 'C1QTNF9', 'C8orf88', 'CA4', 'CACHD1', 'CARMN', 'CAV1', 'CAV2', 'CAVIN1', 'CAVIN2', 'CBX7', 'CCDC50', 'CCDC82', \n",
    "               'CCL14', 'CCNA2', 'CD300LG', 'CD34', 'CDC14B', 'CDC20', 'CDCA8', 'CENPA', 'CEP112', 'CEP68', 'CHRDL1', 'CLDN11', 'CNTNAP3', 'CNTNAP3B', 'CNTNAP3P2', 'CORO2B', \n",
    "               'CRIM1', 'CXCL12', 'CXorf36', 'CYYR1', 'DIXDC1', 'DMD', 'DST', 'EBF1', 'EDNRB', 'EEPD1', 'EGFLAM', 'EMCN', 'ENPP2', 'ERG', 'EXO1', 'EZH1', 'FAM126A', 'FAM13A',\n",
    "               'FAM13C', 'FAM162B', 'FAM171A1', 'FAM49A', 'FGF1', 'FMO2', 'FOXA1', 'FOXC1', 'FOXO1', 'GABARAPL1', 'GAS1RR', 'GGTA1P', 'GIPC2', 'GNAL', 'GNG11', 'GNG12-AS1', \n",
    "               'GPRASP1', 'GSN', 'HJURP', 'HLF', 'HOXA4', 'IGSF10', 'IL33', 'ITPRIPL1', 'JAM2', 'KANK1', 'KIF20A', 'KIF2C', 'KIFC1', 'KLHL29', 'LDB2', 'LEPR', 'LHFPL6',\n",
    "               'LIFR', 'LIMS2', 'LINC00377', 'LINC01537', 'LINC01589', 'LINC01985', 'LINC02185', 'LINC02202', 'LINC02511', 'LMOD1', 'LRRN4CL', 'MAB21L1', 'MAGI2-AS3',\n",
    "               'MAMDC2', 'MAML2', 'MATN2', 'MEF2C-AS1', 'METTL7A', 'MICU3', 'MIR497HG', 'MIR99AHG', 'MME', 'MRAS', 'MRGPRF-AS1', 'MSRB3', 'MYCT1', 'MYLK', 'NDC80', 'NDN',\n",
    "               'NDRG2', 'NMT2', 'NPR1', 'NR3C1', 'NR3C2', 'OXCT1-AS1', 'PABPC1P4', 'PAK3', 'PALMD', 'PAMR1', 'PDE2A', 'PDGFD', 'PEAR1', 'PGM5P4', 'PKD2', 'PLK1', 'PLPP1', \n",
    "               'PLPP3', 'PLSCR4', 'PPIAP39', 'PPP1R12B', 'PRKX', 'PRNP', 'PROS1', 'RBMS3', 'RBMS3-AS3', 'RGMA', 'RHOJ', 'SCN2B', 'SCN4B', 'SFT2D2', 'SH3BGRL2', 'SH3D19',\n",
    "               'SHE', 'SLC17A7', 'SLIT3', 'SNHG26', 'SPARCL1', 'SPRY2', 'SRPX', 'STARD9', 'SVEP1', 'SYNM', 'TCEAL7', 'TGFBR2', 'TGFBR3', 'THSD1', 'TINAGL1', 'TMEM220',\n",
    "               'TMEM220-AS1', 'TMEM252', 'TMEM255A', 'TNS2', 'TPX2', 'TSLP', 'TSPAN7', 'TTC28', 'TXNIP', 'VEGFD', 'WASF3', 'YBX1']\n"
   ]
  },
  {
   "cell_type": "code",
   "execution_count": 105,
   "id": "9620ceff-db25-4828-a777-e141b3651c20",
   "metadata": {},
   "outputs": [],
   "source": [
    "#Most popular 500 feature\n",
    "\n",
    "featureList = ['AASS', 'ABCA10', 'ABCA6', 'ABCA8', 'ABCA9', 'ABCB1', 'ABCB5', 'ABLIM1', 'AC002451.1', 'AC006963.1', 'AC007938.1', 'AC009269.4', 'AC009806.1', 'AC012073.1',\n",
    "               'AC015656.1', 'AC015908.3', 'AC016924.1', 'AC021739.2', 'AC024337.2', 'AC024909.2', 'AC025470.2', 'AC036108.2', 'AC073130.2', 'AC084759.3', 'AC092164.1',\n",
    "               'AC092376.2', 'AC093110.1', 'AC093535.2', 'AC096921.2', 'AC098617.1', 'AC100771.2', 'AC103591.2', 'AC107959.1', 'AC134043.2', 'ADAM33', 'ADAMTS5',\n",
    "               'ADAMTS9-AS2', 'ADCY4', 'ADCYAP1R1', 'ADGRF5', 'ADH1C', 'ADH5', 'ADRB2', 'AGAP11', 'AHNAK', 'AL021368.2', 'AL031587.5', 'AL133355.1', 'AL136982.1',\n",
    "               'AL160412.1', 'AL356489.2', 'AL445426.1', 'AL513303.1', 'ALDH1A1', 'AMER1', 'AMOTL2', 'ANGPT4', 'ANGPTL1', 'ANKRD53', 'ANLN', 'ANP32E', 'ANXA1', 'AOC4P', \n",
    "               'AP001528.3', 'AP001627.1', 'AP002026.1', 'AP003071.4', 'AP005264.1', 'APCDD1', 'AQP1', 'ARHGAP20', 'ARHGEF15', 'ARHGEF40', 'ARID5B', 'ASPA', 'ASPM', 'ATOH8',\n",
    "               'AURKB', 'AVPR2', 'B3GNT5', 'BCL11A', 'BMX', 'BTG3', 'BTNL9', 'BUB1', 'BUB1B', 'C10orf128', 'C1QTNF9', 'C20orf194', 'C8orf88', 'CA4', 'CABP1', 'CACHD1',\n",
    "               'CADM3-AS1', 'CALCOCO1', 'CARMN', 'CAV1', 'CAV2', 'CAVIN1', 'CAVIN2', 'CBX7', 'CCDC50', 'CCDC69', 'CCDC82', 'CCL14', 'CCNA2', 'CCNB1', 'CCNB2', 'CD300LG',\n",
    "               'CD34', 'CD36', 'CDADC1', 'CDC14B', 'CDC20', 'CDC25A', 'CDC45', 'CDCA2', 'CDCA3', 'CDCA7', 'CDCA8', 'CDKN1C', 'CDO1', 'CENPA', 'CENPF', 'CENPN', 'CENPO',\n",
    "               'CEP112', 'CEP55', 'CEP68', 'CHEK1', 'CHRDL1', 'CHST3', 'CKAP2L', 'CKS1B', 'CLCN6', 'CLDN11', 'CLDN19', 'CLEC3B', 'CLIP4', 'CLMP', 'CNN1', 'CNRIP1', 'CNTNAP3',\n",
    "               'CNTNAP3B', 'CNTNAP3P2', 'COL6A6', 'CORO2B', 'CPA1', 'CRIM1', 'CRTAP', 'CRY2', 'CT83', 'CX3CL1', 'CXCL12', 'CXCL2', 'CXorf36', 'CYP2U1', 'CYYR1', 'DAB2IP',\n",
    "               'DENND2A', 'DIXDC1', 'DKC1', 'DLGAP5', 'DMD', 'DNAJB4', 'DNAJC18', 'DPYSL2', 'DST', 'EBF1', 'EBF3', 'ECSCR', 'EDNRB', 'EEPD1', 'EGFLAM', 'EHBP1', 'EHD2', \n",
    "               'EMCN', 'ENPP2', 'EOGT', 'EPAS1', 'EPB41L2', 'ERG', 'EXO1', 'EZH1', 'F10', 'F8', 'FAM126A', 'FAM13A', 'FAM13C', 'FAM162B', 'FAM171A1', 'FAM189A2', 'FAM49A', \n",
    "               'FAM83D', 'FERMT2', 'FGF1', 'FMO2', 'FOXA1', 'FOXC1', 'FOXM1', 'FOXN3', 'FOXO1', 'FREM1', 'FXYD1', 'FZD4', 'GABARAPL1', 'GABRP', 'GAS1RR', 'GATA3', 'GGTA1P',\n",
    "               'GIMAP8', 'GIPC2', 'GLRA4', 'GNAI1', 'GNAL', 'GNG11', 'GNG12-AS1', 'GPIHBP1', 'GPM6B', 'GPR146', 'GPRASP1', 'GPRASP2', 'GSN', 'GTSE1', 'GYPC', 'HAND2-AS1', \n",
    "               'HAPLN3', 'HASPIN', 'HDGF', 'HID1-AS1', 'HIF3A', 'HJURP', 'HLF', 'HMGA1', 'HMMR', 'HOXA4', 'HSPB2', 'IFRD1', 'IGIP', 'IGSF10', 'IL11RA', 'IL33', 'ILF2', 'INMT',\n",
    "               'IQGAP3', 'ISM1', 'ITGA7', 'ITIH5', 'ITM2A', 'ITPRIPL1', 'JAM2', 'KANK1', 'KCTD12', 'KIF14', 'KIF18B', 'KIF20A', 'KIF23', 'KIF2C', 'KIF4A', 'KIFC1', 'KIT', 'KL', \n",
    "               'KLF11', 'KLF9', 'KLHL21', 'KLHL29', 'KY', 'LBR', 'LDB2', 'LEPR', 'LHFPL6', 'LIFR', 'LIMS2', 'LINC00377', 'LINC00924', 'LINC00933', 'LINC01140', 'LINC01474', \n",
    "               'LINC01537', 'LINC01589', 'LINC01697', 'LINC01985', 'LINC02066', 'LINC02185', 'LINC02188', 'LINC02202', 'LINC02511', 'LMOD1', 'LRRC70', 'LRRC8C-DT', 'LRRN4CL',\n",
    "               'LRRTM2', 'LTBP4', 'LYVE1', 'MAB21L1', 'MAGI2-AS3', 'MAGOH2P', 'MAMDC2', 'MAML2', 'MAP1LC3C', 'MAP3K21', 'MAP7D3', 'MASP1', 'MATN2', 'MCM10', 'MEF2C-AS1', 'MELK',\n",
    "               'MEOX1', 'MEOX2', 'MEOX2-AS1', 'MESTIT1', 'METTL7A', 'MFAP4', 'MICALL1', 'MICU3', 'MIR100HG', 'MIR497HG', 'MIR99AHG', 'MME', 'MMRN1', 'MMRN2', 'MOB3B', 'MPP6', \n",
    "               'MRAS', 'MRGPRF', 'MRGPRF-AS1', 'MSANTD3', 'MSRB3', 'MTFR2', 'MTMR10', 'MTURN', 'MYCT1', 'MYLK', 'MYZAP', 'NCAPG', 'NCAPH', 'NCK2', 'NDC80', 'NDN', 'NDRG2', 'NEK2',\n",
    "               'NFIB', 'NKAPL', 'NMT2', 'NOTCH4', 'NPR1', 'NR3C1', 'NR3C2', 'NRN1', 'ORC1', 'ORC6', 'OXCT1-AS1', 'OXTR', 'P2RY12', 'PABPC1P4', 'PAK3', 'PAK5', 'PALMD', 'PAMR1',\n",
    "               'PCDHGB7', 'PDE1C', 'PDE2A', 'PDGFD', 'PDSS1', 'PEAR1', 'PELI1', 'PELI2', 'PGM5', 'PGM5P3-AS1', 'PGM5P4', 'PID1', 'PIMREG', 'PKD2', 'PLAGL1', 'PLK1', 'PLPP1', 'PLPP3',\n",
    "               'PLSCR4', 'PM20D2', 'POLQ', 'POU6F1', 'PPARA', 'PPIAP39', 'PPM1F', 'PPP1R12B', 'PQLC2L', 'PREX2', 'PRKN', 'PRKX', 'PRNP', 'PROS1', 'PRRG3', 'PTPN14', 'PTPN21', 'PTPRB',\n",
    "               'PTTG1', 'RAD51', 'RAD54L', 'RAPGEF3', 'RASSF9', 'RBMS2', 'RBMS3', 'RBMS3-AS3', 'RCBTB2', 'RECK', 'RGL1', 'RGMA', 'RHOJ', 'RNF150', 'ROBO4', 'RPL21P135',\n",
    "               'RUNX1T1', 'S1PR1', 'SACS-AS1', 'SAMD5', 'SCARA5', 'SCN2B', 'SCN4B', 'SEMA3G', 'SFRP1', 'SFT2D2', 'SGO1', 'SH3BGRL2', 'SH3D19', 'SHE', 'SIK2', 'SKA1', \n",
    "               'SLC17A7', 'SLIT3', 'SNCA', 'SNHG26', 'SORBS1', 'SOX9-AS1', 'SPARCL1', 'SPRY1', 'SPRY2', 'SPTBN1', 'SRPK1', 'SRPX', 'SRSF12', 'STARD9', 'STAT5B', 'STIL',\n",
    "               'STOX2', 'SUV39H2', 'SVEP1', 'SYN2', 'SYNE3', 'SYNM', 'TACR1', 'TCEAL7', 'TCF7L1', 'TGFBR2', 'TGFBR3', 'THSD1', 'TICRR', 'TINAGL1', 'TLE4', 'TLN2', 'TMEM132C',\n",
    "               'TMEM220', 'TMEM220-AS1', 'TMEM246', 'TMEM252', 'TMEM255A', 'TNS1', 'TNS2', 'TNXB', 'TP63', 'TPT1-AS1', 'TPX2', 'TRIP13', 'TRPM3', 'TSHZ2', 'TSLP', 'TSPAN7', \n",
    "               'TTC28', 'TTK', 'TTLL4', 'TUBA1C', 'TUBB', 'TUBB6', 'TXNIP', 'USHBP1', 'USP44', 'UTRN', 'VEGFD', 'VSIR', 'VWF', 'WASF3', 'WDFY3-AS2', 'WDR86', 'WHAMMP2', \n",
    "               'YBX1', 'YBX1P10', 'Z97989.1', 'ZBTB4', 'ZCCHC24', 'ZNF454', 'ZNF462']"
   ]
  },
  {
   "cell_type": "code",
   "execution_count": 113,
   "id": "01b699c1-c060-4eb5-b179-f75a09da257d",
   "metadata": {},
   "outputs": [],
   "source": [
    "featureList = ['AASS', 'ABCA10', 'ABCA5', 'ABCA6', 'ABCA8', 'ABCA9', 'ABCB1', 'ABCB5', 'ABLIM1', 'AC002451.1', 'AC005225.4', 'AC006963.1', 'AC007193.2', 'AC007938.1', 'AC009269.4', 'AC009779.3', 'AC009806.1', 'AC012073.1', 'AC015656.1', 'AC015908.3', 'AC016722.3', 'AC016924.1', 'AC018521.6', 'AC019131.2', 'AC021739.2', 'AC024337.2', 'AC024909.2', 'AC025470.2', 'AC036108.2', 'AC073130.2', 'AC084064.1', 'AC084759.3', 'AC087242.1', 'AC092164.1', 'AC092376.2', 'AC092718.4', 'AC093110.1', 'AC093535.2', 'AC096921.2', 'AC098617.1', 'AC100771.2', 'AC103591.2', 'AC104211.2', 'AC104260.2', 'AC105001.1', 'AC105053.1', 'AC107959.1', 'AC121247.1', 'AC134043.2', 'AC254633.1', 'ACTA2', 'ACTA2-AS1', 'ADAM33', 'ADAMTS5', 'ADAMTS9-AS2', 'ADCY4', 'ADCYAP1R1', 'ADGRA2', 'ADGRA3', 'ADGRF5', 'ADGRL4', 'ADH1C', 'ADH5', 'ADRB2', 'AGAP11', 'AHNAK', 'AKAP12', 'AL021368.2', 'AL024507.2', 'AL031316.1', 'AL031587.5', 'AL133355.1', 'AL135960.1', 'AL136982.1', 'AL160412.1', 'AL356489.2', 'AL358332.1', 'AL445307.1', 'AL445426.1', 'AL513303.1', 'ALDH1A1', 'AMER1', 'AMOTL1', 'AMOTL2', 'ANGPT4', 'ANGPTL1', 'ANK2', 'ANKRD53', 'ANKS6', 'ANLN', 'ANO6', 'ANP32E', 'ANTXR2', 'ANXA1', 'AOC3', 'AOC4P', 'AP000892.3', 'AP001528.2', 'AP001528.3', 'AP001627.1', 'AP002026.1', 'AP003071.4', 'AP005264.1', 'APCDD1', 'AQP1', 'AQP7', 'ARAP3', 'ARHGAP20', 'ARHGEF15', 'ARHGEF40', 'ARHGEF7-AS2', 'ARID5B', 'ASPA', 'ASPM', 'ATL2', 'ATOH8', 'AUNIP', 'AURKB', 'AVPR2', 'B3GNT5', 'BCL11A', 'BLACAT1', 'BMP6', 'BMX', 'BTG3', 'BTNL9', 'BUB1', 'BUB1B', 'C10orf128', 'C17orf51', 'C1QTNF9', 'C20orf194', 'C8orf88', 'C9orf40', 'CA4', 'CABP1', 'CACHD1', 'CADM3-AS1', 'CALCOCO1', 'CARMN', 'CAT', 'CAV1', 'CAV2', 'CAVIN1', 'CAVIN2', 'CBX7', 'CCDC36', 'CCDC50', 'CCDC69', 'CCDC82', 'CCL14', 'CCM2L', 'CCNA2', 'CCNB1', 'CCNB2', 'CD300LG', 'CD302', 'CD34', 'CD36', 'CDADC1', 'CDC123', 'CDC14B', 'CDC20', 'CDC25A', 'CDC25C', 'CDC45', 'CDCA2', 'CDCA3', 'CDCA7', 'CDCA8', 'CDH3', 'CDH5', 'CDK2AP1', 'CDKN1C', 'CDO1', 'CEBPB', 'CENPA', 'CENPE', 'CENPF', 'CENPI', 'CENPL', 'CENPN', 'CENPO', 'CEP112', 'CEP55', 'CEP68', 'CFLAR', 'CHEK1', 'CHL1', 'CHL1-AS2', 'CHODL', 'CHRDL1', 'CHST3', 'CIDEC', 'CKAP2L', 'CKS1B', 'CLCN4', 'CLCN6', 'CLDN11', 'CLDN19', 'CLEC1A', 'CLEC3B', 'CLIP4', 'CLMP', 'CMC2', 'CNKSR2', 'CNN1', 'CNRIP1', 'CNTNAP3', 'CNTNAP3B', 'CNTNAP3P2', 'COL25A1', 'COL6A6', 'COLGALT1', 'CORO2B', 'CPA1', 'CR381670.1', 'CREB5', 'CRIM1', 'CRTAP', 'CRY2', 'CT83', 'CUBN', 'CX3CL1', 'CXCL12', 'CXCL2', 'CXorf36', 'CYP2U1', 'CYYR1', 'DAB2IP', 'DBF4', 'DCN', 'DCUN1D3', 'DDR2', 'DENND2A', 'DEPDC1B', 'DEPP1', 'DIXDC1', 'DKC1', 'DLC1', 'DLGAP5', 'DMD', 'DMGDH', 'DNAJB4', 'DNAJC18', 'DNASE1L3', 'DNM1P47', 'DONSON', 'DPYSL2', 'DSCC1', 'DST', 'E2F3', 'EBF1', 'EBF2', 'EBF3', 'ECM2', 'ECSCR', 'EDNRB', 'EEPD1', 'EGFLAM', 'EGR1', 'EHBP1', 'EHD2', 'ELMOD3', 'EMCN', 'EN1', 'ENPP2', 'EOGT', 'EPAS1', 'EPB41L2', 'ERCC6L', 'ERG', 'ERICH4', 'ESPL1', 'EXO1', 'EZH1', 'EZH2', 'F10', 'F8', 'FABP4', 'FAM126A', 'FAM136A', 'FAM13A', 'FAM13C', 'FAM149A', 'FAM162B', 'FAM171A1', 'FAM189A2', 'FAM49A', 'FAM72A', 'FAM83D', 'FANCA', 'FAT4', 'FERMT2', 'FGF1', 'FGF13-AS1', 'FGF14-AS2', 'FMNL2', 'FMO2', 'FOXA1', 'FOXC1', 'FOXM1', 'FOXN3', 'FOXO1', 'FREM1', 'FXYD1', 'FZD4', 'GABARAPL1', 'GABRP', 'GALNT15', 'GAS1RR', 'GATA3', 'GGTA1P', 'GIMAP8', 'GINS1', 'GIPC2', 'GLRA4', 'GLYAT', 'GNAI1', 'GNAL', 'GNG11', 'GNG12-AS1', 'GOLGA8M', 'GPD1', 'GPIHBP1', 'GPM6B', 'GPR146', 'GPRASP1', 'GPRASP2', 'GPRC5B', 'GPSM2', 'GRAMD2B', 'GRIA4', 'GSN', 'GTPBP4', 'GTSE1', 'GYPC', 'HAND2-AS1', 'HAPLN3', 'HASPIN', 'HCAR3', 'HCG11', 'HCG23', 'HDGF', 'HEPACAM', 'HID1-AS1', 'HIF3A', 'HJURP', 'HLF', 'HMGA1', 'HMGB3P10', 'HMMR', 'HORMAD1', 'HOXA4', 'HSD17B13', 'HSPB2', 'HSPB6', 'IFRD1', 'IGF1', 'IGFBP6', 'IGIP', 'IGSF10', 'IL11RA', 'IL33', 'ILF2', 'INMT', 'IQGAP3', 'ISM1', 'ITGA7', 'ITIH5', 'ITM2A', 'ITPRIPL1', 'JADE1', 'JAM2', 'JAM3', 'JRKL', 'KANK1', 'KCMF1', 'KCNE1B', 'KCNJ2-AS1', 'KCNMB1', 'KCTD12', 'KIAA0408', 'KIF11', 'KIF14', 'KIF15', 'KIF18A', 'KIF18B', 'KIF20A', 'KIF23', 'KIF2C', 'KIF4A', 'KIFC1', 'KIT', 'KL', 'KLF11', 'KLF4', 'KLF9', 'KLHL13', 'KLHL21', 'KLHL29', 'KPNA2', 'KY', 'L3MBTL4', 'LARP6', 'LBR', 'LCA5', 'LDB2', 'LDHB', 'LEPR', 'LETMD1', 'LGI4', 'LHFPL6', 'LIFR', 'LIMS2', 'LINC00377', 'LINC00484', 'LINC00506', 'LINC00511', 'LINC00671', 'LINC00924', 'LINC00933', 'LINC01070', 'LINC01140', 'LINC01197', 'LINC01474', 'LINC01537', 'LINC01589', 'LINC01697', 'LINC01985', 'LINC02066', 'LINC02185', 'LINC02188', 'LINC02202', 'LINC02237', 'LINC02511', 'LINC02580', 'LIPE', 'LMO7DN', 'LMOD1', 'LPL', 'LRIG3', 'LRRC70', 'LRRC8C-DT', 'LRRN4CL', 'LRRTM2', 'LTBP4', 'LUARIS', 'LURAP1', 'LYVE1', 'MAB21L1', 'MAFTRR', 'MAGI2-AS3', 'MAGOH2P', 'MAMDC2', 'MAML2', 'MAP1LC3C', 'MAP3K21', 'MAP7D3', 'MASP1', 'MATN2', 'MCAM', 'MCM10', 'MEF2C-AS1', 'MEIS2', 'MELK', 'MEOX1', 'MEOX2', 'MEOX2-AS1', 'MESTIT1', 'MET', 'METTL7A', 'MFAP4', 'MGLL', 'MICALL1', 'MICU3', 'MID1', 'MIR100HG', 'MIR22HG', 'MIR497HG', 'MIR99AHG', 'MKI67', 'MME', 'MME-AS1', 'MMRN1', 'MMRN2', 'MOB3B', 'MPP6', 'MRAP', 'MRAS', 'MRGPRF', 'MRGPRF-AS1', 'MSANTD3', 'MSN', 'MSRB3', 'MTFR2', 'MTHFD1L', 'MTMR10', 'MTURN', 'MYCT1', 'MYLK', 'MYZAP', 'N4BP2L1', 'NATD1', 'NCAPG', 'NCAPH', 'NCK2', 'NDC80', 'NDN', 'NDRG2', 'NEIL3', 'NEK2', 'NFIB', 'NKAPL', 'NMT2', 'NOTCH4', 'NPR1', 'NR3C1', 'NR3C2', 'NRN1', 'NUP93', 'NUSAP1', 'OIP5', 'ORC1', 'ORC6', 'OVCH2', 'OXCT1-AS1', 'OXTR', 'P2RY12', 'PABPC1P4', 'PAK3', 'PAK5', 'PALMD', 'PAMR1', 'PAPSS1', 'PCDHGB7', 'PCOLCE2', 'PDE11A', 'PDE1C', 'PDE2A', 'PDE7B', 'PDGFD', 'PDSS1', 'PDZD2', 'PEAR1', 'PECAM1', 'PELI1', 'PELI2', 'PER1', 'PGM5', 'PGM5P3-AS1', 'PGM5P4', 'PID1', 'PIK3C2G', 'PIMREG', 'PKD2', 'PLA2R1', 'PLAGL1', 'PLCZ1', 'PLIN1', 'PLK1', 'PLOD1', 'PLPP1', 'PLPP3', 'PLSCR4', 'PM20D2', 'PNRC1', 'POLQ', 'POU6F1', 'PPARA', 'PPARG', 'PPIAP39', 'PPM1F', 'PPP1R12B', 'PQLC2L', 'PRC1', 'PRCD', 'PRDM5', 'PREX2', 'PRICKLE2', 'PRKD1', 'PRKN', 'PRKX', 'PRNP', 'PROS1', 'PRRG3', 'PSAT1', 'PSAT1P3', 'PSMB2', 'PSRC1', 'PTPN14', 'PTPN21', 'PTPRB', 'PTTG1', 'QKI', 'RACGAP1', 'RAD51', 'RAD54L', 'RAPGEF3', 'RASSF9', 'RBMS1', 'RBMS2', 'RBMS3', 'RBMS3-AS3', 'RBP7', 'RCBTB2', 'RDH5', 'RECK', 'RFC4', 'RGL1', 'RGMA', 'RHOJ', 'RIPK2', 'RNF150', 'ROBO4', 'RPL21P135', 'RUNX1T1', 'RYR3', 'S1PR1', 'SACS-AS1', 'SAMD5', 'SAV1', 'SCARA5', 'SCN2B', 'SCN4B', 'SEMA3G', 'SFRP1', 'SFT2D2', 'SGK2', 'SGO1', 'SH3BGRL2', 'SH3D19', 'SHCBP1', 'SHE', 'SIK2', 'SIRPA', 'SKA1', 'SKP2', 'SLC17A7', 'SLC35G2', 'SLIT3', 'SMIM10L2A', 'SNCA', 'SNHG26', 'SORBS1', 'SOX9-AS1', 'SPARCL1', 'SPRY1', 'SPRY2', 'SPTBN1', 'SRPK1', 'SRPX', 'SRSF12', 'ST6GALNAC3', 'ST8SIA1', 'STARD9', 'STAT5B', 'STIL', 'STK38', 'STMN1', 'STOX2', 'SUV39H2', 'SVEP1', 'SYN2', 'SYNE3', 'SYNM', 'TACR1', 'TAF4B', 'TAL1', 'TBX19', 'TCEAL5', 'TCEAL7', 'TCF7L1', 'TCF7L2', 'TEF', 'TEK', 'TEPP', 'TGFBR2', 'TGFBR3', 'THRB', 'THSD1', 'TICRR', 'TINAGL1', 'TK2', 'TLE3', 'TLE4', 'TLN2', 'TMEM132C', 'TMEM220', 'TMEM220-AS1', 'TMEM246', 'TMEM252', 'TMEM255A', 'TMEM88', 'TNMD', 'TNS1', 'TNS2', 'TNXB', 'TP63', 'TPT1-AS1', 'TPX2', 'TRBV26OR9-2', 'TRIM2', 'TRIM29', 'TRIP13', 'TRMT9B', 'TROAP', 'TRPM3', 'TSHZ2', 'TSLP', 'TSPAN33', 'TSPAN7', 'TTC28', 'TTK', 'TTLL4', 'TUBA1C', 'TUBB', 'TUBB6', 'TUSC5', 'TWIST2', 'TXNIP', 'UBE2C', 'UBE2T', 'UGP2', 'USB1', 'USHBP1', 'USP44', 'UTRN', 'VEGFD', 'VSIR', 'VWF', 'WASF3', 'WDFY3-AS2', 'WDR86', 'WHAMMP2', 'WHAMMP3', 'YBX1', 'YBX1P10', 'YEATS2', 'YPEL4', 'Z97989.1', 'ZBTB4', 'ZC3H12B', 'ZC3H12C', 'ZCCHC24', 'ZNF366', 'ZNF454', 'ZNF462', 'ZNF695', 'ZNF781']\n"
   ]
  },
  {
   "cell_type": "code",
   "execution_count": 38,
   "id": "90cc4647-aa5e-40ea-88aa-b349734161b5",
   "metadata": {},
   "outputs": [],
   "source": [
    "\n",
    "trainData = pd.read_csv(\"C:\\\\Users\\\\FIRAT.KURT\\\\Documents\\\\Thesis_2021\\\\TrainData.csv\")\n"
   ]
  },
  {
   "cell_type": "code",
   "execution_count": null,
   "id": "0f063b8b-73c0-43e0-be6f-b3a970eced12",
   "metadata": {},
   "outputs": [],
   "source": []
  },
  {
   "cell_type": "code",
   "execution_count": 114,
   "id": "3087f60a-54b6-4e2c-89aa-07f51b04ed07",
   "metadata": {},
   "outputs": [],
   "source": [
    "X_train = trainData[featureList]\n",
    "y_train = trainData.Subtype\n",
    "le = LabelEncoder()\n",
    "y = pd.DataFrame(le.fit_transform(y_train))\n",
    "minMaxScaler = MinMaxScaler()\n",
    "X_train = pd.DataFrame(minMaxScaler.fit_transform(X_train), index=X_train.index,columns=X_train.columns)\n",
    "trainX, validX, trainy, validy  = train_test_split(X_train, y, train_size=0.8, random_state = 0)"
   ]
  },
  {
   "cell_type": "code",
   "execution_count": null,
   "id": "43bcaa8d-e049-4846-8d6a-c6b4bdb6c0e9",
   "metadata": {},
   "outputs": [],
   "source": [
    "\n",
    "model = XGBClassifier()\n",
    "\n",
    "model.fit(trainX,trainy)\n",
    "\n",
    "preds = model.predict(validX)\n",
    "\n",
    "accuracy_score(validy, preds)"
   ]
  },
  {
   "cell_type": "code",
   "execution_count": 44,
   "id": "e0fc32d6-cd17-4939-bcd2-91e53458fcf4",
   "metadata": {},
   "outputs": [],
   "source": [
    "def objective(trial,data = X_train,target = y):\n",
    "    \n",
    "    train_x, test_x, train_y, test_y = train_test_split(data, target, test_size=0.15,random_state=42)\n",
    "    param = {\n",
    "        'lambda': trial.suggest_loguniform('lambda', 1e-3, 10.0),\n",
    "        'alpha': trial.suggest_loguniform('alpha', 1e-3, 10.0),\n",
    "        'colsample_bytree': trial.suggest_categorical('colsample_bytree', [0.3,0.4,0.5,0.6,0.7,0.8,0.9, 1.0]),\n",
    "        'subsample': trial.suggest_categorical('subsample', [0.4,0.5,0.6,0.7,0.8,1.0]),\n",
    "        'learning_rate': trial.suggest_categorical('learning_rate', [0.008,0.009,0.01,0.012,0.014,0.016,0.018, 0.02]),\n",
    "        'n_estimators': 4000,\n",
    "        'max_depth': trial.suggest_categorical('max_depth', [5,7,9,11,13,15,17,20]),\n",
    "        'random_state': trial.suggest_categorical('random_state', [24, 48,2020]),\n",
    "        'min_child_weight': trial.suggest_int('min_child_weight', 1, 300),\n",
    "    }\n",
    "    model = XGBClassifier(**param)  \n",
    "    \n",
    "    model.fit(train_x,train_y,eval_set=[(test_x,test_y)],early_stopping_rounds=100,verbose=False)\n",
    "    \n",
    "    preds = model.predict(test_x)\n",
    "    \n",
    "    rmse = accuracy_score(test_y, preds)\n",
    "    \n",
    "    return rmse"
   ]
  },
  {
   "cell_type": "code",
   "execution_count": null,
   "id": "850e4d60-01ae-4bf2-b736-70fb97cac1b9",
   "metadata": {},
   "outputs": [],
   "source": [
    "\n",
    "import optuna\n",
    "study = optuna.create_study(direction='maximize')\n",
    "study.optimize(objective, n_trials=50)\n",
    "print('Number of finished trials:', len(study.trials))\n",
    "print('Best trial:', study.best_trial.params)"
   ]
  },
  {
   "cell_type": "code",
   "execution_count": 116,
   "id": "2eda67b7-3f15-4fe6-a52a-d79b2a186329",
   "metadata": {},
   "outputs": [],
   "source": [
    "testData = pd.read_csv(\"C:\\\\Users\\\\FIRAT.KURT\\\\Documents\\\\Thesis_2021\\\\TestData.csv\")\n",
    "test = testData[featureList]\n",
    "test = pd.DataFrame(minMaxScaler.fit_transform(test), index=test.index,columns=test.columns)"
   ]
  },
  {
   "cell_type": "code",
   "execution_count": null,
   "id": "eabba950-dbfe-42c0-8a77-de6a1256cfa8",
   "metadata": {},
   "outputs": [],
   "source": [
    "from sklearn.model_selection import KFold\n",
    "Best_trial = {'lambda': 0.004420780435449923, 'alpha': 2.083758739908325, 'colsample_bytree': 0.7, 'subsample': 0.6, 'learning_rate': 0.02, 'max_depth': 15, 'random_state': 48, 'min_child_weight': 28}\n",
    "preds = np.zeros(test.shape[0])\n",
    "kf = KFold(n_splits=10,random_state=48,shuffle=True)\n",
    "rmse=[]  # list contains rmse for each fold\n",
    "n=0\n",
    "model = XGBClassifier(**Best_trial)\n",
    "for trn_idx, test_idx in kf.split(X_train,y):\n",
    "    X_tr,X_val=X_train.iloc[trn_idx],X_train.iloc[test_idx]\n",
    "    y_tr,y_val=y.iloc[trn_idx],y.iloc[test_idx]\n",
    "    \n",
    "    model.fit(X_tr,y_tr,eval_set=[(X_val,y_val)],early_stopping_rounds=100,verbose=False)\n",
    "    preds+=model.predict(test)/kf.n_splits\n",
    "    rmse.append(accuracy_score(y_val, model.predict(X_val)))\n",
    "    print(n+1,rmse[n])\n",
    "    n+=1"
   ]
  },
  {
   "cell_type": "code",
   "execution_count": 118,
   "id": "15631e31-b618-44c6-b091-39d29ea44aa4",
   "metadata": {},
   "outputs": [
    {
     "name": "stdout",
     "output_type": "stream",
     "text": [
      "0.8444444444444444\n"
     ]
    }
   ],
   "source": [
    "print(np.mean(rmse))\n"
   ]
  },
  {
   "cell_type": "code",
   "execution_count": 119,
   "id": "2d04e3b5-b16d-4bb1-92f7-49f89e29da36",
   "metadata": {},
   "outputs": [
    {
     "name": "stdout",
     "output_type": "stream",
     "text": [
      "0.7888888888888889\n"
     ]
    }
   ],
   "source": [
    "test_y = testData.Subtype\n",
    "ty = le.transform(test_y)\n",
    "\n",
    "print(accuracy_score(ty,model.predict(test)))\n"
   ]
  },
  {
   "cell_type": "code",
   "execution_count": 124,
   "id": "a7f301f4-c897-4498-a091-d4212663c2a6",
   "metadata": {},
   "outputs": [
    {
     "data": {
      "text/plain": [
       "Subtype\n",
       "Basal     129\n",
       "Healty    105\n",
       "Her2       57\n",
       "LumA      431\n",
       "LumB      149\n",
       "Normal     29\n",
       "dtype: int64"
      ]
     },
     "execution_count": 124,
     "metadata": {},
     "output_type": "execute_result"
    }
   ],
   "source": [
    "pd.DataFrame(y_train).groupby(\"Subtype\").size()"
   ]
  },
  {
   "cell_type": "code",
   "execution_count": null,
   "id": "7633aa9d-8587-47a4-a229-8d4eff0d8d61",
   "metadata": {},
   "outputs": [],
   "source": []
  }
 ],
 "metadata": {
  "kernelspec": {
   "display_name": "Python 3",
   "language": "python",
   "name": "python3"
  },
  "language_info": {
   "codemirror_mode": {
    "name": "ipython",
    "version": 3
   },
   "file_extension": ".py",
   "mimetype": "text/x-python",
   "name": "python",
   "nbconvert_exporter": "python",
   "pygments_lexer": "ipython3",
   "version": "3.8.8"
  }
 },
 "nbformat": 4,
 "nbformat_minor": 5
}
