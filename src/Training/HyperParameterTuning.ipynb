{
 "cells": [
  {
   "cell_type": "code",
   "execution_count": 3,
   "metadata": {},
   "outputs": [],
   "source": [
    "from numpy.core.einsumfunc import _einsum_path_dispatcher\n",
    "import pandas as pd\n",
    "import numpy as np\n",
    "from sklearn.linear_model import LogisticRegression\n",
    "from xgboost import XGBClassifier\n",
    "from lightgbm import LGBMClassifier \n",
    "from sklearn.discriminant_analysis import LinearDiscriminantAnalysis\n",
    "from sklearn.svm import SVC\n",
    "from sklearn.model_selection import train_test_split\n",
    "from sklearn.preprocessing import LabelEncoder\n",
    "from sklearn.preprocessing import MinMaxScaler\n",
    "from sklearn.model_selection import KFold\n",
    "from sklearn.metrics import accuracy_score\n",
    "from sklearn.metrics import precision_score\n",
    "from sklearn.metrics import recall_score\n",
    "from sklearn.metrics import confusion_matrix\n",
    "from sklearn.ensemble import VotingClassifier\n",
    "from sklearn.neighbors import KNeighborsClassifier"
   ]
  },
  {
   "cell_type": "code",
   "execution_count": 5,
   "metadata": {},
   "outputs": [],
   "source": [
    "trainDataAddress = r\"C:\\Users\\FIRAT.KURT\\Documents\\Thesis_Data\\TrainDatas\\FeatureSelection_20.csv\"\n",
    "df = pd.read_csv(trainDataAddress)\n"
   ]
  },
  {
   "cell_type": "code",
   "execution_count": 16,
   "metadata": {},
   "outputs": [
    {
     "data": {
      "text/html": [
       "<div>\n",
       "<style scoped>\n",
       "    .dataframe tbody tr th:only-of-type {\n",
       "        vertical-align: middle;\n",
       "    }\n",
       "\n",
       "    .dataframe tbody tr th {\n",
       "        vertical-align: top;\n",
       "    }\n",
       "\n",
       "    .dataframe thead th {\n",
       "        text-align: right;\n",
       "    }\n",
       "</style>\n",
       "<table border=\"1\" class=\"dataframe\">\n",
       "  <thead>\n",
       "    <tr style=\"text-align: right;\">\n",
       "      <th></th>\n",
       "      <th>AC005077.4</th>\n",
       "      <th>AC100771.2</th>\n",
       "      <th>AC124067.4</th>\n",
       "      <th>ADAMTS5</th>\n",
       "      <th>AGR3</th>\n",
       "      <th>AR</th>\n",
       "      <th>CDK1</th>\n",
       "      <th>CHST3</th>\n",
       "      <th>CXXC5</th>\n",
       "      <th>ERGIC1</th>\n",
       "      <th>FAM171A1</th>\n",
       "      <th>FOXM1</th>\n",
       "      <th>FSIP1</th>\n",
       "      <th>KCNJ11</th>\n",
       "      <th>KCNK15</th>\n",
       "      <th>LRRN4CL</th>\n",
       "      <th>PAMR1</th>\n",
       "      <th>RGMA</th>\n",
       "      <th>SMIM14</th>\n",
       "      <th>STOX2</th>\n",
       "    </tr>\n",
       "  </thead>\n",
       "  <tbody>\n",
       "    <tr>\n",
       "      <th>0</th>\n",
       "      <td>2.129507</td>\n",
       "      <td>0.007742</td>\n",
       "      <td>0.728267</td>\n",
       "      <td>1.510309</td>\n",
       "      <td>138.145113</td>\n",
       "      <td>17.574259</td>\n",
       "      <td>16.130439</td>\n",
       "      <td>3.777593</td>\n",
       "      <td>29.546005</td>\n",
       "      <td>18.432280</td>\n",
       "      <td>2.304468</td>\n",
       "      <td>10.360540</td>\n",
       "      <td>6.193542</td>\n",
       "      <td>7.136308</td>\n",
       "      <td>12.919290</td>\n",
       "      <td>0.840148</td>\n",
       "      <td>0.410596</td>\n",
       "      <td>0.480948</td>\n",
       "      <td>39.315238</td>\n",
       "      <td>0.051246</td>\n",
       "    </tr>\n",
       "    <tr>\n",
       "      <th>1</th>\n",
       "      <td>0.850671</td>\n",
       "      <td>0.091134</td>\n",
       "      <td>0.386388</td>\n",
       "      <td>0.532894</td>\n",
       "      <td>120.993979</td>\n",
       "      <td>11.812889</td>\n",
       "      <td>10.599441</td>\n",
       "      <td>2.145143</td>\n",
       "      <td>38.852568</td>\n",
       "      <td>31.293555</td>\n",
       "      <td>1.114885</td>\n",
       "      <td>13.105041</td>\n",
       "      <td>1.250841</td>\n",
       "      <td>6.262420</td>\n",
       "      <td>4.940484</td>\n",
       "      <td>0.250029</td>\n",
       "      <td>1.390545</td>\n",
       "      <td>0.162853</td>\n",
       "      <td>64.035186</td>\n",
       "      <td>0.056391</td>\n",
       "    </tr>\n",
       "    <tr>\n",
       "      <th>2</th>\n",
       "      <td>1.777356</td>\n",
       "      <td>0.032846</td>\n",
       "      <td>0.602009</td>\n",
       "      <td>1.680550</td>\n",
       "      <td>68.024036</td>\n",
       "      <td>18.187149</td>\n",
       "      <td>7.870393</td>\n",
       "      <td>3.676316</td>\n",
       "      <td>43.460446</td>\n",
       "      <td>21.284913</td>\n",
       "      <td>2.809691</td>\n",
       "      <td>5.350194</td>\n",
       "      <td>19.716850</td>\n",
       "      <td>7.561253</td>\n",
       "      <td>26.344173</td>\n",
       "      <td>1.668778</td>\n",
       "      <td>1.018426</td>\n",
       "      <td>0.732698</td>\n",
       "      <td>43.398505</td>\n",
       "      <td>0.204818</td>\n",
       "    </tr>\n",
       "    <tr>\n",
       "      <th>3</th>\n",
       "      <td>0.538242</td>\n",
       "      <td>0.016022</td>\n",
       "      <td>1.098536</td>\n",
       "      <td>1.285384</td>\n",
       "      <td>193.557406</td>\n",
       "      <td>12.108335</td>\n",
       "      <td>5.109818</td>\n",
       "      <td>2.171825</td>\n",
       "      <td>69.186238</td>\n",
       "      <td>17.280963</td>\n",
       "      <td>4.149877</td>\n",
       "      <td>3.924920</td>\n",
       "      <td>19.928225</td>\n",
       "      <td>3.172062</td>\n",
       "      <td>11.133883</td>\n",
       "      <td>0.708183</td>\n",
       "      <td>0.898765</td>\n",
       "      <td>0.300714</td>\n",
       "      <td>31.800631</td>\n",
       "      <td>0.542957</td>\n",
       "    </tr>\n",
       "    <tr>\n",
       "      <th>4</th>\n",
       "      <td>2.648847</td>\n",
       "      <td>0.064049</td>\n",
       "      <td>0.587958</td>\n",
       "      <td>1.163992</td>\n",
       "      <td>79.260960</td>\n",
       "      <td>28.416958</td>\n",
       "      <td>6.162760</td>\n",
       "      <td>3.972258</td>\n",
       "      <td>44.761534</td>\n",
       "      <td>51.976293</td>\n",
       "      <td>3.117372</td>\n",
       "      <td>7.008434</td>\n",
       "      <td>4.353891</td>\n",
       "      <td>10.720579</td>\n",
       "      <td>29.206439</td>\n",
       "      <td>1.400175</td>\n",
       "      <td>1.926167</td>\n",
       "      <td>2.213332</td>\n",
       "      <td>80.667734</td>\n",
       "      <td>0.567483</td>\n",
       "    </tr>\n",
       "  </tbody>\n",
       "</table>\n",
       "</div>"
      ],
      "text/plain": [
       "   AC005077.4  AC100771.2  AC124067.4   ADAMTS5        AGR3         AR  \\\n",
       "0    2.129507    0.007742    0.728267  1.510309  138.145113  17.574259   \n",
       "1    0.850671    0.091134    0.386388  0.532894  120.993979  11.812889   \n",
       "2    1.777356    0.032846    0.602009  1.680550   68.024036  18.187149   \n",
       "3    0.538242    0.016022    1.098536  1.285384  193.557406  12.108335   \n",
       "4    2.648847    0.064049    0.587958  1.163992   79.260960  28.416958   \n",
       "\n",
       "        CDK1     CHST3      CXXC5     ERGIC1  FAM171A1      FOXM1      FSIP1  \\\n",
       "0  16.130439  3.777593  29.546005  18.432280  2.304468  10.360540   6.193542   \n",
       "1  10.599441  2.145143  38.852568  31.293555  1.114885  13.105041   1.250841   \n",
       "2   7.870393  3.676316  43.460446  21.284913  2.809691   5.350194  19.716850   \n",
       "3   5.109818  2.171825  69.186238  17.280963  4.149877   3.924920  19.928225   \n",
       "4   6.162760  3.972258  44.761534  51.976293  3.117372   7.008434   4.353891   \n",
       "\n",
       "      KCNJ11     KCNK15   LRRN4CL     PAMR1      RGMA     SMIM14     STOX2  \n",
       "0   7.136308  12.919290  0.840148  0.410596  0.480948  39.315238  0.051246  \n",
       "1   6.262420   4.940484  0.250029  1.390545  0.162853  64.035186  0.056391  \n",
       "2   7.561253  26.344173  1.668778  1.018426  0.732698  43.398505  0.204818  \n",
       "3   3.172062  11.133883  0.708183  0.898765  0.300714  31.800631  0.542957  \n",
       "4  10.720579  29.206439  1.400175  1.926167  2.213332  80.667734  0.567483  "
      ]
     },
     "execution_count": 16,
     "metadata": {},
     "output_type": "execute_result"
    }
   ],
   "source": [
    "#df.head()\n",
    "df.iloc[:,1:-2].head()"
   ]
  },
  {
   "cell_type": "code",
   "execution_count": 17,
   "metadata": {},
   "outputs": [],
   "source": [
    "def run(trial):\n",
    "    fold = 0\n",
    "    learning_rate = trial.suggest_float(\"learning_rate\", 1e-2, 0.25, log=True)\n",
    "    reg_lambda = trial.suggest_loguniform(\"reg_lambda\", 1e-8, 100.0)\n",
    "    reg_alpha = trial.suggest_loguniform(\"reg_alpha\", 1e-8, 100.0)\n",
    "    subsample = trial.suggest_float(\"subsample\", 0.1, 1.0)\n",
    "    colsample_bytree = trial.suggest_float(\"colsample_bytree\", 0.1, 1.0)\n",
    "    max_depth = trial.suggest_int(\"max_depth\", 1, 7)\n",
    "\n",
    "    xtrain = df[df.kfold != fold].reset_index(drop=True)\n",
    "    xvalid = df[df.kfold == fold].reset_index(drop=True)\n",
    "\n",
    "    y_train = xtrain.Subtype\n",
    "    y_valid = xvalid.Subtype\n",
    "\n",
    "    xtrain = xtrain.iloc[:, 1:-2]\n",
    "    xvalid = xvalid.iloc[:,1:-2]\n",
    "\n",
    "    le = LabelEncoder()\n",
    "    ytrain = pd.DataFrame(le.fit_transform(y_train))\n",
    "    yvalid = pd.DataFrame(le.transform(y_valid))\n",
    "    minMaxScaler = MinMaxScaler()\n",
    "    X_train = pd.DataFrame(minMaxScaler.fit_transform(xtrain), index=xtrain.index,columns=xtrain.columns)\n",
    "    model = XGBClassifier(\n",
    "        random_state=42,\n",
    "        n_estimators=7000,\n",
    "        objective=\"multi:softmax\",\n",
    "        learning_rate=learning_rate,\n",
    "        reg_lambda=reg_lambda,\n",
    "        reg_alpha=reg_alpha,\n",
    "        subsample=subsample,\n",
    "        colsample_bytree=colsample_bytree,\n",
    "        max_depth=max_depth,\n",
    "    )\n",
    "    model.fit(xtrain, ytrain, early_stopping_rounds=300, eval_set=[(xvalid, yvalid)], verbose=1000)\n",
    "    preds_valid = model.predict(xvalid)\n",
    "    prec =  precision_score(yvalid,preds_valid, average='macro')\n",
    "    return prec"
   ]
  },
  {
   "cell_type": "code",
   "execution_count": 18,
   "metadata": {},
   "outputs": [
    {
     "name": "stderr",
     "output_type": "stream",
     "text": [
      "\u001b[32m[I 2021-10-31 22:59:15,695]\u001b[0m A new study created in memory with name: no-name-d79bb572-55b9-4827-bf81-567d81d5b196\u001b[0m\n"
     ]
    },
    {
     "name": "stdout",
     "output_type": "stream",
     "text": [
      "[0]\tvalidation_0-merror:0.85000\n",
      "Will train until validation_0-merror hasn't improved in 300 rounds.\n"
     ]
    },
    {
     "name": "stderr",
     "output_type": "stream",
     "text": [
      "C:\\Users\\FIRAT.KURT\\Anaconda3\\lib\\site-packages\\sklearn\\utils\\validation.py:73: DataConversionWarning: A column-vector y was passed when a 1d array was expected. Please change the shape of y to (n_samples, ), for example using ravel().\n",
      "  return f(**kwargs)\n"
     ]
    },
    {
     "name": "stdout",
     "output_type": "stream",
     "text": [
      "Stopping. Best iteration:\n",
      "[0]\tvalidation_0-merror:0.85000\n",
      "\n"
     ]
    },
    {
     "name": "stderr",
     "output_type": "stream",
     "text": [
      "C:\\Users\\FIRAT.KURT\\Anaconda3\\lib\\site-packages\\sklearn\\metrics\\_classification.py:1221: UndefinedMetricWarning: Precision is ill-defined and being set to 0.0 in labels with no predicted samples. Use `zero_division` parameter to control this behavior.\n",
      "  _warn_prf(average, modifier, msg_start, len(result))\n",
      "\u001b[32m[I 2021-10-31 22:59:16,040]\u001b[0m Trial 0 finished with value: 0.024999999999999998 and parameters: {'learning_rate': 0.03172943914035018, 'reg_lambda': 2.40622912672306e-05, 'reg_alpha': 92.11986347760013, 'subsample': 0.2024408276134842, 'colsample_bytree': 0.5179963581153856, 'max_depth': 1}. Best is trial 0 with value: 0.024999999999999998.\u001b[0m\n"
     ]
    },
    {
     "name": "stdout",
     "output_type": "stream",
     "text": [
      "[0]\tvalidation_0-merror:0.37778\n",
      "Will train until validation_0-merror hasn't improved in 300 rounds.\n"
     ]
    },
    {
     "name": "stderr",
     "output_type": "stream",
     "text": [
      "C:\\Users\\FIRAT.KURT\\Anaconda3\\lib\\site-packages\\sklearn\\utils\\validation.py:73: DataConversionWarning: A column-vector y was passed when a 1d array was expected. Please change the shape of y to (n_samples, ), for example using ravel().\n",
      "  return f(**kwargs)\n"
     ]
    },
    {
     "name": "stdout",
     "output_type": "stream",
     "text": [
      "Stopping. Best iteration:\n",
      "[58]\tvalidation_0-merror:0.16111\n",
      "\n"
     ]
    },
    {
     "name": "stderr",
     "output_type": "stream",
     "text": [
      "C:\\Users\\FIRAT.KURT\\Anaconda3\\lib\\site-packages\\sklearn\\metrics\\_classification.py:1221: UndefinedMetricWarning: Precision is ill-defined and being set to 0.0 in labels with no predicted samples. Use `zero_division` parameter to control this behavior.\n",
      "  _warn_prf(average, modifier, msg_start, len(result))\n",
      "\u001b[32m[I 2021-10-31 22:59:16,689]\u001b[0m Trial 1 finished with value: 0.7558531746031747 and parameters: {'learning_rate': 0.03778513886842624, 'reg_lambda': 0.0004280682845687778, 'reg_alpha': 0.004667968976170407, 'subsample': 0.22806664390862189, 'colsample_bytree': 0.29309773060858246, 'max_depth': 7}. Best is trial 1 with value: 0.7558531746031747.\u001b[0m\n"
     ]
    },
    {
     "name": "stdout",
     "output_type": "stream",
     "text": [
      "[0]\tvalidation_0-merror:0.26667\n",
      "Will train until validation_0-merror hasn't improved in 300 rounds.\n"
     ]
    },
    {
     "name": "stderr",
     "output_type": "stream",
     "text": [
      "C:\\Users\\FIRAT.KURT\\Anaconda3\\lib\\site-packages\\sklearn\\utils\\validation.py:73: DataConversionWarning: A column-vector y was passed when a 1d array was expected. Please change the shape of y to (n_samples, ), for example using ravel().\n",
      "  return f(**kwargs)\n"
     ]
    },
    {
     "name": "stdout",
     "output_type": "stream",
     "text": [
      "Stopping. Best iteration:\n",
      "[11]\tvalidation_0-merror:0.15000\n",
      "\n"
     ]
    },
    {
     "name": "stderr",
     "output_type": "stream",
     "text": [
      "C:\\Users\\FIRAT.KURT\\Anaconda3\\lib\\site-packages\\sklearn\\metrics\\_classification.py:1221: UndefinedMetricWarning: Precision is ill-defined and being set to 0.0 in labels with no predicted samples. Use `zero_division` parameter to control this behavior.\n",
      "  _warn_prf(average, modifier, msg_start, len(result))\n",
      "\u001b[32m[I 2021-10-31 22:59:17,294]\u001b[0m Trial 2 finished with value: 0.74355413478671 and parameters: {'learning_rate': 0.09708109596998471, 'reg_lambda': 9.56826343774145e-05, 'reg_alpha': 0.0012387200410056583, 'subsample': 0.996821210012221, 'colsample_bytree': 0.5149789357203387, 'max_depth': 5}. Best is trial 1 with value: 0.7558531746031747.\u001b[0m\n"
     ]
    },
    {
     "name": "stdout",
     "output_type": "stream",
     "text": [
      "[0]\tvalidation_0-merror:0.38889\n",
      "Will train until validation_0-merror hasn't improved in 300 rounds.\n"
     ]
    },
    {
     "name": "stderr",
     "output_type": "stream",
     "text": [
      "C:\\Users\\FIRAT.KURT\\Anaconda3\\lib\\site-packages\\sklearn\\utils\\validation.py:73: DataConversionWarning: A column-vector y was passed when a 1d array was expected. Please change the shape of y to (n_samples, ), for example using ravel().\n",
      "  return f(**kwargs)\n"
     ]
    },
    {
     "name": "stdout",
     "output_type": "stream",
     "text": [
      "Stopping. Best iteration:\n",
      "[337]\tvalidation_0-merror:0.16111\n",
      "\n"
     ]
    },
    {
     "name": "stderr",
     "output_type": "stream",
     "text": [
      "\u001b[32m[I 2021-10-31 22:59:18,243]\u001b[0m Trial 3 finished with value: 0.7326678765880218 and parameters: {'learning_rate': 0.08910798147973457, 'reg_lambda': 0.005764995904908223, 'reg_alpha': 0.0004077767904380545, 'subsample': 0.7185369915339618, 'colsample_bytree': 0.1081708912583501, 'max_depth': 5}. Best is trial 1 with value: 0.7558531746031747.\u001b[0m\n"
     ]
    },
    {
     "name": "stdout",
     "output_type": "stream",
     "text": [
      "[0]\tvalidation_0-merror:0.43889\n",
      "Will train until validation_0-merror hasn't improved in 300 rounds.\n"
     ]
    },
    {
     "name": "stderr",
     "output_type": "stream",
     "text": [
      "C:\\Users\\FIRAT.KURT\\Anaconda3\\lib\\site-packages\\sklearn\\utils\\validation.py:73: DataConversionWarning: A column-vector y was passed when a 1d array was expected. Please change the shape of y to (n_samples, ), for example using ravel().\n",
      "  return f(**kwargs)\n"
     ]
    },
    {
     "name": "stdout",
     "output_type": "stream",
     "text": [
      "Stopping. Best iteration:\n",
      "[68]\tvalidation_0-merror:0.16111\n",
      "\n"
     ]
    },
    {
     "name": "stderr",
     "output_type": "stream",
     "text": [
      "C:\\Users\\FIRAT.KURT\\Anaconda3\\lib\\site-packages\\sklearn\\metrics\\_classification.py:1221: UndefinedMetricWarning: Precision is ill-defined and being set to 0.0 in labels with no predicted samples. Use `zero_division` parameter to control this behavior.\n",
      "  _warn_prf(average, modifier, msg_start, len(result))\n",
      "\u001b[32m[I 2021-10-31 22:59:18,653]\u001b[0m Trial 4 finished with value: 0.654231077262493 and parameters: {'learning_rate': 0.21487524514538198, 'reg_lambda': 2.582938575991732e-06, 'reg_alpha': 0.0038056526089366434, 'subsample': 0.27059619106789334, 'colsample_bytree': 0.12036160412755868, 'max_depth': 1}. Best is trial 1 with value: 0.7558531746031747.\u001b[0m\n"
     ]
    },
    {
     "name": "stdout",
     "output_type": "stream",
     "text": [
      "[0]\tvalidation_0-merror:0.35000\n",
      "Will train until validation_0-merror hasn't improved in 300 rounds.\n"
     ]
    },
    {
     "name": "stderr",
     "output_type": "stream",
     "text": [
      "C:\\Users\\FIRAT.KURT\\Anaconda3\\lib\\site-packages\\sklearn\\utils\\validation.py:73: DataConversionWarning: A column-vector y was passed when a 1d array was expected. Please change the shape of y to (n_samples, ), for example using ravel().\n",
      "  return f(**kwargs)\n"
     ]
    },
    {
     "name": "stdout",
     "output_type": "stream",
     "text": [
      "Stopping. Best iteration:\n",
      "[2]\tvalidation_0-merror:0.32222\n",
      "\n"
     ]
    },
    {
     "name": "stderr",
     "output_type": "stream",
     "text": [
      "C:\\Users\\FIRAT.KURT\\Anaconda3\\lib\\site-packages\\sklearn\\metrics\\_classification.py:1221: UndefinedMetricWarning: Precision is ill-defined and being set to 0.0 in labels with no predicted samples. Use `zero_division` parameter to control this behavior.\n",
      "  _warn_prf(average, modifier, msg_start, len(result))\n",
      "\u001b[32m[I 2021-10-31 22:59:19,200]\u001b[0m Trial 5 finished with value: 0.574447391688771 and parameters: {'learning_rate': 0.01371097233894684, 'reg_lambda': 46.724416637086165, 'reg_alpha': 49.53178851826672, 'subsample': 0.6164409238936019, 'colsample_bytree': 0.742376433890797, 'max_depth': 6}. Best is trial 1 with value: 0.7558531746031747.\u001b[0m\n"
     ]
    },
    {
     "name": "stdout",
     "output_type": "stream",
     "text": [
      "[0]\tvalidation_0-merror:0.29444\n",
      "Will train until validation_0-merror hasn't improved in 300 rounds.\n"
     ]
    },
    {
     "name": "stderr",
     "output_type": "stream",
     "text": [
      "C:\\Users\\FIRAT.KURT\\Anaconda3\\lib\\site-packages\\sklearn\\utils\\validation.py:73: DataConversionWarning: A column-vector y was passed when a 1d array was expected. Please change the shape of y to (n_samples, ), for example using ravel().\n",
      "  return f(**kwargs)\n"
     ]
    },
    {
     "name": "stdout",
     "output_type": "stream",
     "text": [
      "Stopping. Best iteration:\n",
      "[159]\tvalidation_0-merror:0.14444\n",
      "\n"
     ]
    },
    {
     "name": "stderr",
     "output_type": "stream",
     "text": [
      "C:\\Users\\FIRAT.KURT\\Anaconda3\\lib\\site-packages\\sklearn\\metrics\\_classification.py:1221: UndefinedMetricWarning: Precision is ill-defined and being set to 0.0 in labels with no predicted samples. Use `zero_division` parameter to control this behavior.\n",
      "  _warn_prf(average, modifier, msg_start, len(result))\n",
      "\u001b[32m[I 2021-10-31 22:59:20,167]\u001b[0m Trial 6 finished with value: 0.7273380940047606 and parameters: {'learning_rate': 0.026636815549960537, 'reg_lambda': 6.77674617417362e-07, 'reg_alpha': 4.4268203804947194e-08, 'subsample': 0.3690046900278121, 'colsample_bytree': 0.539260649664301, 'max_depth': 5}. Best is trial 1 with value: 0.7558531746031747.\u001b[0m\n"
     ]
    },
    {
     "name": "stdout",
     "output_type": "stream",
     "text": [
      "[0]\tvalidation_0-merror:0.25000\n",
      "Will train until validation_0-merror hasn't improved in 300 rounds.\n"
     ]
    },
    {
     "name": "stderr",
     "output_type": "stream",
     "text": [
      "C:\\Users\\FIRAT.KURT\\Anaconda3\\lib\\site-packages\\sklearn\\utils\\validation.py:73: DataConversionWarning: A column-vector y was passed when a 1d array was expected. Please change the shape of y to (n_samples, ), for example using ravel().\n",
      "  return f(**kwargs)\n"
     ]
    },
    {
     "name": "stdout",
     "output_type": "stream",
     "text": [
      "Stopping. Best iteration:\n",
      "[251]\tvalidation_0-merror:0.17222\n",
      "\n"
     ]
    },
    {
     "name": "stderr",
     "output_type": "stream",
     "text": [
      "C:\\Users\\FIRAT.KURT\\Anaconda3\\lib\\site-packages\\sklearn\\metrics\\_classification.py:1221: UndefinedMetricWarning: Precision is ill-defined and being set to 0.0 in labels with no predicted samples. Use `zero_division` parameter to control this behavior.\n",
      "  _warn_prf(average, modifier, msg_start, len(result))\n",
      "\u001b[32m[I 2021-10-31 22:59:21,166]\u001b[0m Trial 7 finished with value: 0.6906704406704406 and parameters: {'learning_rate': 0.015738816406698893, 'reg_lambda': 9.281686207259224e-06, 'reg_alpha': 4.537197025633148, 'subsample': 0.6149048559041923, 'colsample_bytree': 0.7625795342036314, 'max_depth': 2}. Best is trial 1 with value: 0.7558531746031747.\u001b[0m\n"
     ]
    },
    {
     "name": "stdout",
     "output_type": "stream",
     "text": [
      "[0]\tvalidation_0-merror:0.51111\n",
      "Will train until validation_0-merror hasn't improved in 300 rounds.\n"
     ]
    },
    {
     "name": "stderr",
     "output_type": "stream",
     "text": [
      "C:\\Users\\FIRAT.KURT\\Anaconda3\\lib\\site-packages\\sklearn\\utils\\validation.py:73: DataConversionWarning: A column-vector y was passed when a 1d array was expected. Please change the shape of y to (n_samples, ), for example using ravel().\n",
      "  return f(**kwargs)\n"
     ]
    },
    {
     "name": "stdout",
     "output_type": "stream",
     "text": [
      "Stopping. Best iteration:\n",
      "[3]\tvalidation_0-merror:0.42778\n",
      "\n"
     ]
    },
    {
     "name": "stderr",
     "output_type": "stream",
     "text": [
      "C:\\Users\\FIRAT.KURT\\Anaconda3\\lib\\site-packages\\sklearn\\metrics\\_classification.py:1221: UndefinedMetricWarning: Precision is ill-defined and being set to 0.0 in labels with no predicted samples. Use `zero_division` parameter to control this behavior.\n",
      "  _warn_prf(average, modifier, msg_start, len(result))\n",
      "\u001b[32m[I 2021-10-31 22:59:21,504]\u001b[0m Trial 8 finished with value: 0.18145454545454545 and parameters: {'learning_rate': 0.21229195524680217, 'reg_lambda': 2.1842060871358018e-07, 'reg_alpha': 29.90141120665467, 'subsample': 0.18460928035848087, 'colsample_bytree': 0.4114115858625652, 'max_depth': 6}. Best is trial 1 with value: 0.7558531746031747.\u001b[0m\n"
     ]
    },
    {
     "name": "stdout",
     "output_type": "stream",
     "text": [
      "[0]\tvalidation_0-merror:0.33333\n",
      "Will train until validation_0-merror hasn't improved in 300 rounds.\n"
     ]
    },
    {
     "name": "stderr",
     "output_type": "stream",
     "text": [
      "C:\\Users\\FIRAT.KURT\\Anaconda3\\lib\\site-packages\\sklearn\\utils\\validation.py:73: DataConversionWarning: A column-vector y was passed when a 1d array was expected. Please change the shape of y to (n_samples, ), for example using ravel().\n",
      "  return f(**kwargs)\n"
     ]
    },
    {
     "name": "stdout",
     "output_type": "stream",
     "text": [
      "Stopping. Best iteration:\n",
      "[176]\tvalidation_0-merror:0.16667\n",
      "\n"
     ]
    },
    {
     "name": "stderr",
     "output_type": "stream",
     "text": [
      "\u001b[32m[I 2021-10-31 22:59:22,099]\u001b[0m Trial 9 finished with value: 0.6879169854885694 and parameters: {'learning_rate': 0.08983739076674721, 'reg_lambda': 1.0048909442961985e-08, 'reg_alpha': 0.0018753785263087139, 'subsample': 0.49401173167954127, 'colsample_bytree': 0.7292347001401143, 'max_depth': 1}. Best is trial 1 with value: 0.7558531746031747.\u001b[0m\n"
     ]
    },
    {
     "name": "stdout",
     "output_type": "stream",
     "text": [
      "[0]\tvalidation_0-merror:0.23889\n",
      "Will train until validation_0-merror hasn't improved in 300 rounds.\n"
     ]
    },
    {
     "name": "stderr",
     "output_type": "stream",
     "text": [
      "C:\\Users\\FIRAT.KURT\\Anaconda3\\lib\\site-packages\\sklearn\\utils\\validation.py:73: DataConversionWarning: A column-vector y was passed when a 1d array was expected. Please change the shape of y to (n_samples, ), for example using ravel().\n",
      "  return f(**kwargs)\n"
     ]
    },
    {
     "name": "stdout",
     "output_type": "stream",
     "text": [
      "Stopping. Best iteration:\n",
      "[1]\tvalidation_0-merror:0.15000\n",
      "\n"
     ]
    },
    {
     "name": "stderr",
     "output_type": "stream",
     "text": [
      "\u001b[32m[I 2021-10-31 22:59:22,716]\u001b[0m Trial 10 finished with value: 0.8587205387205388 and parameters: {'learning_rate': 0.04586090618716276, 'reg_lambda': 0.06826522569951803, 'reg_alpha': 1.7871177682650604e-06, 'subsample': 0.40807207936359097, 'colsample_bytree': 0.3135487605486668, 'max_depth': 7}. Best is trial 10 with value: 0.8587205387205388.\u001b[0m\n"
     ]
    },
    {
     "name": "stdout",
     "output_type": "stream",
     "text": [
      "[0]\tvalidation_0-merror:0.39444\n",
      "Will train until validation_0-merror hasn't improved in 300 rounds.\n"
     ]
    },
    {
     "name": "stderr",
     "output_type": "stream",
     "text": [
      "C:\\Users\\FIRAT.KURT\\Anaconda3\\lib\\site-packages\\sklearn\\utils\\validation.py:73: DataConversionWarning: A column-vector y was passed when a 1d array was expected. Please change the shape of y to (n_samples, ), for example using ravel().\n",
      "  return f(**kwargs)\n"
     ]
    },
    {
     "name": "stdout",
     "output_type": "stream",
     "text": [
      "Stopping. Best iteration:\n",
      "[118]\tvalidation_0-merror:0.15000\n",
      "\n"
     ]
    },
    {
     "name": "stderr",
     "output_type": "stream",
     "text": [
      "\u001b[32m[I 2021-10-31 22:59:23,433]\u001b[0m Trial 11 finished with value: 0.7607025980097509 and parameters: {'learning_rate': 0.044262679146614525, 'reg_lambda': 0.03321797991355637, 'reg_alpha': 1.2508025259470067e-06, 'subsample': 0.3959988128357651, 'colsample_bytree': 0.29873426968306593, 'max_depth': 7}. Best is trial 10 with value: 0.8587205387205388.\u001b[0m\n"
     ]
    },
    {
     "name": "stdout",
     "output_type": "stream",
     "text": [
      "[0]\tvalidation_0-merror:0.24444\n",
      "Will train until validation_0-merror hasn't improved in 300 rounds.\n"
     ]
    },
    {
     "name": "stderr",
     "output_type": "stream",
     "text": [
      "C:\\Users\\FIRAT.KURT\\Anaconda3\\lib\\site-packages\\sklearn\\utils\\validation.py:73: DataConversionWarning: A column-vector y was passed when a 1d array was expected. Please change the shape of y to (n_samples, ), for example using ravel().\n",
      "  return f(**kwargs)\n"
     ]
    },
    {
     "name": "stdout",
     "output_type": "stream",
     "text": [
      "Stopping. Best iteration:\n",
      "[47]\tvalidation_0-merror:0.14444\n",
      "\n"
     ]
    },
    {
     "name": "stderr",
     "output_type": "stream",
     "text": [
      "C:\\Users\\FIRAT.KURT\\Anaconda3\\lib\\site-packages\\sklearn\\metrics\\_classification.py:1221: UndefinedMetricWarning: Precision is ill-defined and being set to 0.0 in labels with no predicted samples. Use `zero_division` parameter to control this behavior.\n",
      "  _warn_prf(average, modifier, msg_start, len(result))\n",
      "\u001b[32m[I 2021-10-31 22:59:24,048]\u001b[0m Trial 12 finished with value: 0.7574505082932049 and parameters: {'learning_rate': 0.057830606074256885, 'reg_lambda': 0.07493905180028804, 'reg_alpha': 2.256526229376308e-07, 'subsample': 0.42171804600916735, 'colsample_bytree': 0.3068209018412628, 'max_depth': 7}. Best is trial 10 with value: 0.8587205387205388.\u001b[0m\n"
     ]
    },
    {
     "name": "stdout",
     "output_type": "stream",
     "text": [
      "[0]\tvalidation_0-merror:0.38889\n",
      "Will train until validation_0-merror hasn't improved in 300 rounds.\n"
     ]
    },
    {
     "name": "stderr",
     "output_type": "stream",
     "text": [
      "C:\\Users\\FIRAT.KURT\\Anaconda3\\lib\\site-packages\\sklearn\\utils\\validation.py:73: DataConversionWarning: A column-vector y was passed when a 1d array was expected. Please change the shape of y to (n_samples, ), for example using ravel().\n",
      "  return f(**kwargs)\n"
     ]
    },
    {
     "name": "stdout",
     "output_type": "stream",
     "text": [
      "Stopping. Best iteration:\n",
      "[79]\tvalidation_0-merror:0.16667\n",
      "\n"
     ]
    },
    {
     "name": "stderr",
     "output_type": "stream",
     "text": [
      "\u001b[32m[I 2021-10-31 22:59:24,644]\u001b[0m Trial 13 finished with value: 0.7003480701397367 and parameters: {'learning_rate': 0.05522447285738416, 'reg_lambda': 0.6756494662655441, 'reg_alpha': 4.968977013927776e-06, 'subsample': 0.3662723166170079, 'colsample_bytree': 0.28267126175522306, 'max_depth': 3}. Best is trial 10 with value: 0.8587205387205388.\u001b[0m\n"
     ]
    },
    {
     "name": "stdout",
     "output_type": "stream",
     "text": [
      "[0]\tvalidation_0-merror:0.20000\n",
      "Will train until validation_0-merror hasn't improved in 300 rounds.\n"
     ]
    },
    {
     "name": "stderr",
     "output_type": "stream",
     "text": [
      "C:\\Users\\FIRAT.KURT\\Anaconda3\\lib\\site-packages\\sklearn\\utils\\validation.py:73: DataConversionWarning: A column-vector y was passed when a 1d array was expected. Please change the shape of y to (n_samples, ), for example using ravel().\n",
      "  return f(**kwargs)\n"
     ]
    },
    {
     "name": "stdout",
     "output_type": "stream",
     "text": [
      "Stopping. Best iteration:\n",
      "[6]\tvalidation_0-merror:0.15000\n",
      "\n"
     ]
    },
    {
     "name": "stderr",
     "output_type": "stream",
     "text": [
      "\u001b[32m[I 2021-10-31 22:59:26,098]\u001b[0m Trial 14 finished with value: 0.7053988413547237 and parameters: {'learning_rate': 0.020522590904795246, 'reg_lambda': 2.206484389047011, 'reg_alpha': 6.4343823452639655e-06, 'subsample': 0.8159229444806908, 'colsample_bytree': 0.9223566375293586, 'max_depth': 7}. Best is trial 10 with value: 0.8587205387205388.\u001b[0m\n"
     ]
    },
    {
     "name": "stdout",
     "output_type": "stream",
     "text": [
      "[0]\tvalidation_0-merror:0.33333\n",
      "Will train until validation_0-merror hasn't improved in 300 rounds.\n"
     ]
    },
    {
     "name": "stderr",
     "output_type": "stream",
     "text": [
      "C:\\Users\\FIRAT.KURT\\Anaconda3\\lib\\site-packages\\sklearn\\utils\\validation.py:73: DataConversionWarning: A column-vector y was passed when a 1d array was expected. Please change the shape of y to (n_samples, ), for example using ravel().\n",
      "  return f(**kwargs)\n"
     ]
    },
    {
     "name": "stdout",
     "output_type": "stream",
     "text": [
      "Stopping. Best iteration:\n",
      "[68]\tvalidation_0-merror:0.16667\n",
      "\n"
     ]
    },
    {
     "name": "stderr",
     "output_type": "stream",
     "text": [
      "C:\\Users\\FIRAT.KURT\\Anaconda3\\lib\\site-packages\\sklearn\\metrics\\_classification.py:1221: UndefinedMetricWarning: Precision is ill-defined and being set to 0.0 in labels with no predicted samples. Use `zero_division` parameter to control this behavior.\n",
      "  _warn_prf(average, modifier, msg_start, len(result))\n",
      "\u001b[32m[I 2021-10-31 22:59:27,206]\u001b[0m Trial 15 finished with value: 0.7533792934166201 and parameters: {'learning_rate': 0.047300275504374906, 'reg_lambda': 0.0157555852730456, 'reg_alpha': 3.590572036092129e-06, 'subsample': 0.5226781166709886, 'colsample_bytree': 0.21443576660187275, 'max_depth': 6}. Best is trial 10 with value: 0.8587205387205388.\u001b[0m\n"
     ]
    },
    {
     "name": "stdout",
     "output_type": "stream",
     "text": [
      "[0]\tvalidation_0-merror:0.31667\n",
      "Will train until validation_0-merror hasn't improved in 300 rounds.\n"
     ]
    },
    {
     "name": "stderr",
     "output_type": "stream",
     "text": [
      "C:\\Users\\FIRAT.KURT\\Anaconda3\\lib\\site-packages\\sklearn\\utils\\validation.py:73: DataConversionWarning: A column-vector y was passed when a 1d array was expected. Please change the shape of y to (n_samples, ), for example using ravel().\n",
      "  return f(**kwargs)\n"
     ]
    },
    {
     "name": "stdout",
     "output_type": "stream",
     "text": [
      "Stopping. Best iteration:\n",
      "[166]\tvalidation_0-merror:0.16667\n",
      "\n"
     ]
    },
    {
     "name": "stderr",
     "output_type": "stream",
     "text": [
      "\u001b[32m[I 2021-10-31 22:59:28,151]\u001b[0m Trial 16 finished with value: 0.7398215346744759 and parameters: {'learning_rate': 0.14502239721682156, 'reg_lambda': 0.6212001984680968, 'reg_alpha': 1.1642317833804694e-08, 'subsample': 0.11563351255359744, 'colsample_bytree': 0.3937224892255463, 'max_depth': 4}. Best is trial 10 with value: 0.8587205387205388.\u001b[0m\n"
     ]
    },
    {
     "name": "stdout",
     "output_type": "stream",
     "text": [
      "[0]\tvalidation_0-merror:0.29444\n",
      "Will train until validation_0-merror hasn't improved in 300 rounds.\n"
     ]
    },
    {
     "name": "stderr",
     "output_type": "stream",
     "text": [
      "C:\\Users\\FIRAT.KURT\\Anaconda3\\lib\\site-packages\\sklearn\\utils\\validation.py:73: DataConversionWarning: A column-vector y was passed when a 1d array was expected. Please change the shape of y to (n_samples, ), for example using ravel().\n",
      "  return f(**kwargs)\n"
     ]
    },
    {
     "name": "stdout",
     "output_type": "stream",
     "text": [
      "Stopping. Best iteration:\n",
      "[123]\tvalidation_0-merror:0.15556\n",
      "\n"
     ]
    },
    {
     "name": "stderr",
     "output_type": "stream",
     "text": [
      "C:\\Users\\FIRAT.KURT\\Anaconda3\\lib\\site-packages\\sklearn\\metrics\\_classification.py:1221: UndefinedMetricWarning: Precision is ill-defined and being set to 0.0 in labels with no predicted samples. Use `zero_division` parameter to control this behavior.\n",
      "  _warn_prf(average, modifier, msg_start, len(result))\n",
      "\u001b[32m[I 2021-10-31 22:59:29,487]\u001b[0m Trial 17 finished with value: 0.7176139272913468 and parameters: {'learning_rate': 0.06746013271312154, 'reg_lambda': 18.09528567892214, 'reg_alpha': 6.582107780978392e-05, 'subsample': 0.3250998033018376, 'colsample_bytree': 0.4170474947798919, 'max_depth': 4}. Best is trial 10 with value: 0.8587205387205388.\u001b[0m\n"
     ]
    },
    {
     "name": "stdout",
     "output_type": "stream",
     "text": [
      "[0]\tvalidation_0-merror:0.27222\n",
      "Will train until validation_0-merror hasn't improved in 300 rounds.\n"
     ]
    },
    {
     "name": "stderr",
     "output_type": "stream",
     "text": [
      "C:\\Users\\FIRAT.KURT\\Anaconda3\\lib\\site-packages\\sklearn\\utils\\validation.py:73: DataConversionWarning: A column-vector y was passed when a 1d array was expected. Please change the shape of y to (n_samples, ), for example using ravel().\n",
      "  return f(**kwargs)\n"
     ]
    },
    {
     "name": "stdout",
     "output_type": "stream",
     "text": [
      "Stopping. Best iteration:\n",
      "[103]\tvalidation_0-merror:0.15556\n",
      "\n"
     ]
    },
    {
     "name": "stderr",
     "output_type": "stream",
     "text": [
      "C:\\Users\\FIRAT.KURT\\Anaconda3\\lib\\site-packages\\sklearn\\metrics\\_classification.py:1221: UndefinedMetricWarning: Precision is ill-defined and being set to 0.0 in labels with no predicted samples. Use `zero_division` parameter to control this behavior.\n",
      "  _warn_prf(average, modifier, msg_start, len(result))\n",
      "\u001b[32m[I 2021-10-31 22:59:31,290]\u001b[0m Trial 18 finished with value: 0.6964832621082621 and parameters: {'learning_rate': 0.021446398845603995, 'reg_lambda': 0.001981666506463362, 'reg_alpha': 9.152734954280587e-07, 'subsample': 0.48364938884664954, 'colsample_bytree': 0.6300613224273628, 'max_depth': 7}. Best is trial 10 with value: 0.8587205387205388.\u001b[0m\n"
     ]
    },
    {
     "name": "stdout",
     "output_type": "stream",
     "text": [
      "[0]\tvalidation_0-merror:0.32778\n",
      "Will train until validation_0-merror hasn't improved in 300 rounds.\n"
     ]
    },
    {
     "name": "stderr",
     "output_type": "stream",
     "text": [
      "C:\\Users\\FIRAT.KURT\\Anaconda3\\lib\\site-packages\\sklearn\\utils\\validation.py:73: DataConversionWarning: A column-vector y was passed when a 1d array was expected. Please change the shape of y to (n_samples, ), for example using ravel().\n",
      "  return f(**kwargs)\n"
     ]
    },
    {
     "name": "stdout",
     "output_type": "stream",
     "text": [
      "Stopping. Best iteration:\n",
      "[492]\tvalidation_0-merror:0.15556\n",
      "\n"
     ]
    },
    {
     "name": "stderr",
     "output_type": "stream",
     "text": [
      "C:\\Users\\FIRAT.KURT\\Anaconda3\\lib\\site-packages\\sklearn\\metrics\\_classification.py:1221: UndefinedMetricWarning: Precision is ill-defined and being set to 0.0 in labels with no predicted samples. Use `zero_division` parameter to control this behavior.\n",
      "  _warn_prf(average, modifier, msg_start, len(result))\n",
      "\u001b[32m[I 2021-10-31 22:59:34,149]\u001b[0m Trial 19 finished with value: 0.7677461427461427 and parameters: {'learning_rate': 0.011051374861453751, 'reg_lambda': 0.03178962519246635, 'reg_alpha': 0.3843987166014634, 'subsample': 0.7451120345631446, 'colsample_bytree': 0.19908953571226484, 'max_depth': 6}. Best is trial 10 with value: 0.8587205387205388.\u001b[0m\n"
     ]
    },
    {
     "name": "stdout",
     "output_type": "stream",
     "text": [
      "[0]\tvalidation_0-merror:0.31667\n",
      "Will train until validation_0-merror hasn't improved in 300 rounds.\n"
     ]
    },
    {
     "name": "stderr",
     "output_type": "stream",
     "text": [
      "C:\\Users\\FIRAT.KURT\\Anaconda3\\lib\\site-packages\\sklearn\\utils\\validation.py:73: DataConversionWarning: A column-vector y was passed when a 1d array was expected. Please change the shape of y to (n_samples, ), for example using ravel().\n",
      "  return f(**kwargs)\n"
     ]
    },
    {
     "name": "stdout",
     "output_type": "stream",
     "text": [
      "Stopping. Best iteration:\n",
      "[626]\tvalidation_0-merror:0.15000\n",
      "\n"
     ]
    },
    {
     "name": "stderr",
     "output_type": "stream",
     "text": [
      "C:\\Users\\FIRAT.KURT\\Anaconda3\\lib\\site-packages\\sklearn\\metrics\\_classification.py:1221: UndefinedMetricWarning: Precision is ill-defined and being set to 0.0 in labels with no predicted samples. Use `zero_division` parameter to control this behavior.\n",
      "  _warn_prf(average, modifier, msg_start, len(result))\n",
      "\u001b[32m[I 2021-10-31 22:59:37,277]\u001b[0m Trial 20 finished with value: 0.7697467876039304 and parameters: {'learning_rate': 0.010848225887489694, 'reg_lambda': 0.14828601774691771, 'reg_alpha': 0.11483714554277191, 'subsample': 0.8428381108214467, 'colsample_bytree': 0.17528962715699958, 'max_depth': 6}. Best is trial 10 with value: 0.8587205387205388.\u001b[0m\n"
     ]
    },
    {
     "name": "stdout",
     "output_type": "stream",
     "text": [
      "[0]\tvalidation_0-merror:0.31667\n",
      "Will train until validation_0-merror hasn't improved in 300 rounds.\n"
     ]
    },
    {
     "name": "stderr",
     "output_type": "stream",
     "text": [
      "C:\\Users\\FIRAT.KURT\\Anaconda3\\lib\\site-packages\\sklearn\\utils\\validation.py:73: DataConversionWarning: A column-vector y was passed when a 1d array was expected. Please change the shape of y to (n_samples, ), for example using ravel().\n",
      "  return f(**kwargs)\n"
     ]
    },
    {
     "name": "stdout",
     "output_type": "stream",
     "text": [
      "Stopping. Best iteration:\n",
      "[697]\tvalidation_0-merror:0.15556\n",
      "\n"
     ]
    },
    {
     "name": "stderr",
     "output_type": "stream",
     "text": [
      "C:\\Users\\FIRAT.KURT\\Anaconda3\\lib\\site-packages\\sklearn\\metrics\\_classification.py:1221: UndefinedMetricWarning: Precision is ill-defined and being set to 0.0 in labels with no predicted samples. Use `zero_division` parameter to control this behavior.\n",
      "  _warn_prf(average, modifier, msg_start, len(result))\n",
      "\u001b[32m[I 2021-10-31 22:59:40,504]\u001b[0m Trial 21 finished with value: 0.7644557823129251 and parameters: {'learning_rate': 0.010819409150122253, 'reg_lambda': 0.1822753658154736, 'reg_alpha': 0.09375442894317744, 'subsample': 0.8666706096583244, 'colsample_bytree': 0.17126142650045664, 'max_depth': 6}. Best is trial 10 with value: 0.8587205387205388.\u001b[0m\n"
     ]
    },
    {
     "name": "stdout",
     "output_type": "stream",
     "text": [
      "[0]\tvalidation_0-merror:0.37222\n",
      "Will train until validation_0-merror hasn't improved in 300 rounds.\n"
     ]
    },
    {
     "name": "stderr",
     "output_type": "stream",
     "text": [
      "C:\\Users\\FIRAT.KURT\\Anaconda3\\lib\\site-packages\\sklearn\\utils\\validation.py:73: DataConversionWarning: A column-vector y was passed when a 1d array was expected. Please change the shape of y to (n_samples, ), for example using ravel().\n",
      "  return f(**kwargs)\n"
     ]
    },
    {
     "name": "stdout",
     "output_type": "stream",
     "text": [
      "Stopping. Best iteration:\n",
      "[327]\tvalidation_0-merror:0.16667\n",
      "\n"
     ]
    },
    {
     "name": "stderr",
     "output_type": "stream",
     "text": [
      "C:\\Users\\FIRAT.KURT\\Anaconda3\\lib\\site-packages\\sklearn\\metrics\\_classification.py:1221: UndefinedMetricWarning: Precision is ill-defined and being set to 0.0 in labels with no predicted samples. Use `zero_division` parameter to control this behavior.\n",
      "  _warn_prf(average, modifier, msg_start, len(result))\n",
      "\u001b[32m[I 2021-10-31 22:59:42,480]\u001b[0m Trial 22 finished with value: 0.7568027210884353 and parameters: {'learning_rate': 0.013490570691208717, 'reg_lambda': 7.270631593973666, 'reg_alpha': 0.1497101827843124, 'subsample': 0.7642305567543726, 'colsample_bytree': 0.22486980351141583, 'max_depth': 5}. Best is trial 10 with value: 0.8587205387205388.\u001b[0m\n"
     ]
    },
    {
     "name": "stdout",
     "output_type": "stream",
     "text": [
      "[0]\tvalidation_0-merror:0.33333\n",
      "Will train until validation_0-merror hasn't improved in 300 rounds.\n"
     ]
    },
    {
     "name": "stderr",
     "output_type": "stream",
     "text": [
      "C:\\Users\\FIRAT.KURT\\Anaconda3\\lib\\site-packages\\sklearn\\utils\\validation.py:73: DataConversionWarning: A column-vector y was passed when a 1d array was expected. Please change the shape of y to (n_samples, ), for example using ravel().\n",
      "  return f(**kwargs)\n"
     ]
    },
    {
     "name": "stdout",
     "output_type": "stream",
     "text": [
      "Stopping. Best iteration:\n",
      "[254]\tvalidation_0-merror:0.16111\n",
      "\n"
     ]
    },
    {
     "name": "stderr",
     "output_type": "stream",
     "text": [
      "C:\\Users\\FIRAT.KURT\\Anaconda3\\lib\\site-packages\\sklearn\\metrics\\_classification.py:1221: UndefinedMetricWarning: Precision is ill-defined and being set to 0.0 in labels with no predicted samples. Use `zero_division` parameter to control this behavior.\n",
      "  _warn_prf(average, modifier, msg_start, len(result))\n",
      "\u001b[32m[I 2021-10-31 22:59:44,450]\u001b[0m Trial 23 finished with value: 0.7155388471177945 and parameters: {'learning_rate': 0.0184757569306678, 'reg_lambda': 0.0006177218257419181, 'reg_alpha': 0.2950199778025874, 'subsample': 0.9430880918283696, 'colsample_bytree': 0.20319240722309617, 'max_depth': 6}. Best is trial 10 with value: 0.8587205387205388.\u001b[0m\n"
     ]
    },
    {
     "name": "stdout",
     "output_type": "stream",
     "text": [
      "[0]\tvalidation_0-merror:0.25000\n",
      "Will train until validation_0-merror hasn't improved in 300 rounds.\n"
     ]
    },
    {
     "name": "stderr",
     "output_type": "stream",
     "text": [
      "C:\\Users\\FIRAT.KURT\\Anaconda3\\lib\\site-packages\\sklearn\\utils\\validation.py:73: DataConversionWarning: A column-vector y was passed when a 1d array was expected. Please change the shape of y to (n_samples, ), for example using ravel().\n",
      "  return f(**kwargs)\n"
     ]
    },
    {
     "name": "stdout",
     "output_type": "stream",
     "text": [
      "Stopping. Best iteration:\n",
      "[103]\tvalidation_0-merror:0.16111\n",
      "\n"
     ]
    },
    {
     "name": "stderr",
     "output_type": "stream",
     "text": [
      "C:\\Users\\FIRAT.KURT\\Anaconda3\\lib\\site-packages\\sklearn\\metrics\\_classification.py:1221: UndefinedMetricWarning: Precision is ill-defined and being set to 0.0 in labels with no predicted samples. Use `zero_division` parameter to control this behavior.\n",
      "  _warn_prf(average, modifier, msg_start, len(result))\n",
      "\u001b[32m[I 2021-10-31 22:59:45,993]\u001b[0m Trial 24 finished with value: 0.758100147275405 and parameters: {'learning_rate': 0.010581661691394373, 'reg_lambda': 0.16971584428911132, 'reg_alpha': 1.7361346678567915, 'subsample': 0.655754235080993, 'colsample_bytree': 0.3420374893771808, 'max_depth': 6}. Best is trial 10 with value: 0.8587205387205388.\u001b[0m\n"
     ]
    },
    {
     "name": "stdout",
     "output_type": "stream",
     "text": [
      "[0]\tvalidation_0-merror:0.37778\n",
      "Will train until validation_0-merror hasn't improved in 300 rounds.\n"
     ]
    },
    {
     "name": "stderr",
     "output_type": "stream",
     "text": [
      "C:\\Users\\FIRAT.KURT\\Anaconda3\\lib\\site-packages\\sklearn\\utils\\validation.py:73: DataConversionWarning: A column-vector y was passed when a 1d array was expected. Please change the shape of y to (n_samples, ), for example using ravel().\n",
      "  return f(**kwargs)\n"
     ]
    },
    {
     "name": "stdout",
     "output_type": "stream",
     "text": [
      "Stopping. Best iteration:\n",
      "[355]\tvalidation_0-merror:0.17222\n",
      "\n"
     ]
    },
    {
     "name": "stderr",
     "output_type": "stream",
     "text": [
      "\u001b[32m[I 2021-10-31 22:59:48,124]\u001b[0m Trial 25 finished with value: 0.7596523846523846 and parameters: {'learning_rate': 0.026228473866891505, 'reg_lambda': 0.006184597745214956, 'reg_alpha': 5.117370216354151e-05, 'subsample': 0.8466699546103664, 'colsample_bytree': 0.1431425583624492, 'max_depth': 5}. Best is trial 10 with value: 0.8587205387205388.\u001b[0m\n"
     ]
    },
    {
     "name": "stdout",
     "output_type": "stream",
     "text": [
      "[0]\tvalidation_0-merror:0.36111\n",
      "Will train until validation_0-merror hasn't improved in 300 rounds.\n"
     ]
    },
    {
     "name": "stderr",
     "output_type": "stream",
     "text": [
      "C:\\Users\\FIRAT.KURT\\Anaconda3\\lib\\site-packages\\sklearn\\utils\\validation.py:73: DataConversionWarning: A column-vector y was passed when a 1d array was expected. Please change the shape of y to (n_samples, ), for example using ravel().\n",
      "  return f(**kwargs)\n"
     ]
    },
    {
     "name": "stdout",
     "output_type": "stream",
     "text": [
      "Stopping. Best iteration:\n",
      "[260]\tvalidation_0-merror:0.16667\n",
      "\n"
     ]
    },
    {
     "name": "stderr",
     "output_type": "stream",
     "text": [
      "C:\\Users\\FIRAT.KURT\\Anaconda3\\lib\\site-packages\\sklearn\\metrics\\_classification.py:1221: UndefinedMetricWarning: Precision is ill-defined and being set to 0.0 in labels with no predicted samples. Use `zero_division` parameter to control this behavior.\n",
      "  _warn_prf(average, modifier, msg_start, len(result))\n",
      "\u001b[32m[I 2021-10-31 22:59:49,705]\u001b[0m Trial 26 finished with value: 0.7568027210884353 and parameters: {'learning_rate': 0.010309863497622683, 'reg_lambda': 1.453579305731033, 'reg_alpha': 0.024559129792342826, 'subsample': 0.6816007034137331, 'colsample_bytree': 0.2384190327987407, 'max_depth': 3}. Best is trial 10 with value: 0.8587205387205388.\u001b[0m\n"
     ]
    },
    {
     "name": "stdout",
     "output_type": "stream",
     "text": [
      "[0]\tvalidation_0-merror:0.24444\n",
      "Will train until validation_0-merror hasn't improved in 300 rounds.\n"
     ]
    },
    {
     "name": "stderr",
     "output_type": "stream",
     "text": [
      "C:\\Users\\FIRAT.KURT\\Anaconda3\\lib\\site-packages\\sklearn\\utils\\validation.py:73: DataConversionWarning: A column-vector y was passed when a 1d array was expected. Please change the shape of y to (n_samples, ), for example using ravel().\n",
      "  return f(**kwargs)\n"
     ]
    },
    {
     "name": "stdout",
     "output_type": "stream",
     "text": [
      "Stopping. Best iteration:\n",
      "[51]\tvalidation_0-merror:0.14444\n",
      "\n"
     ]
    },
    {
     "name": "stderr",
     "output_type": "stream",
     "text": [
      "C:\\Users\\FIRAT.KURT\\Anaconda3\\lib\\site-packages\\sklearn\\metrics\\_classification.py:1221: UndefinedMetricWarning: Precision is ill-defined and being set to 0.0 in labels with no predicted samples. Use `zero_division` parameter to control this behavior.\n",
      "  _warn_prf(average, modifier, msg_start, len(result))\n",
      "\u001b[32m[I 2021-10-31 22:59:51,707]\u001b[0m Trial 27 finished with value: 0.7260301862814851 and parameters: {'learning_rate': 0.01623600894696015, 'reg_lambda': 0.03246708294648257, 'reg_alpha': 1.4321243490263051, 'subsample': 0.9017676116247242, 'colsample_bytree': 0.4638409506224658, 'max_depth': 7}. Best is trial 10 with value: 0.8587205387205388.\u001b[0m\n"
     ]
    },
    {
     "name": "stdout",
     "output_type": "stream",
     "text": [
      "[0]\tvalidation_0-merror:0.23889\n",
      "Will train until validation_0-merror hasn't improved in 300 rounds.\n"
     ]
    },
    {
     "name": "stderr",
     "output_type": "stream",
     "text": [
      "C:\\Users\\FIRAT.KURT\\Anaconda3\\lib\\site-packages\\sklearn\\utils\\validation.py:73: DataConversionWarning: A column-vector y was passed when a 1d array was expected. Please change the shape of y to (n_samples, ), for example using ravel().\n",
      "  return f(**kwargs)\n"
     ]
    },
    {
     "name": "stdout",
     "output_type": "stream",
     "text": [
      "Stopping. Best iteration:\n",
      "[75]\tvalidation_0-merror:0.15556\n",
      "\n"
     ]
    },
    {
     "name": "stderr",
     "output_type": "stream",
     "text": [
      "C:\\Users\\FIRAT.KURT\\Anaconda3\\lib\\site-packages\\sklearn\\metrics\\_classification.py:1221: UndefinedMetricWarning: Precision is ill-defined and being set to 0.0 in labels with no predicted samples. Use `zero_division` parameter to control this behavior.\n",
      "  _warn_prf(average, modifier, msg_start, len(result))\n",
      "\u001b[32m[I 2021-10-31 22:59:53,366]\u001b[0m Trial 28 finished with value: 0.7203102453102453 and parameters: {'learning_rate': 0.025200649646891116, 'reg_lambda': 5.249324205078376, 'reg_alpha': 0.02296927688084535, 'subsample': 0.7356808180212211, 'colsample_bytree': 0.36005388868558696, 'max_depth': 6}. Best is trial 10 with value: 0.8587205387205388.\u001b[0m\n"
     ]
    },
    {
     "name": "stdout",
     "output_type": "stream",
     "text": [
      "[0]\tvalidation_0-merror:0.39444\n",
      "Will train until validation_0-merror hasn't improved in 300 rounds.\n"
     ]
    },
    {
     "name": "stderr",
     "output_type": "stream",
     "text": [
      "C:\\Users\\FIRAT.KURT\\Anaconda3\\lib\\site-packages\\sklearn\\utils\\validation.py:73: DataConversionWarning: A column-vector y was passed when a 1d array was expected. Please change the shape of y to (n_samples, ), for example using ravel().\n",
      "  return f(**kwargs)\n"
     ]
    },
    {
     "name": "stdout",
     "output_type": "stream",
     "text": [
      "Stopping. Best iteration:\n",
      "[326]\tvalidation_0-merror:0.16667\n",
      "\n"
     ]
    },
    {
     "name": "stderr",
     "output_type": "stream",
     "text": [
      "\u001b[32m[I 2021-10-31 22:59:55,094]\u001b[0m Trial 29 finished with value: 0.7294257054673721 and parameters: {'learning_rate': 0.03641969863630105, 'reg_lambda': 0.00022200763838464195, 'reg_alpha': 0.0001016680762319424, 'subsample': 0.7788981883993021, 'colsample_bytree': 0.10372447665111068, 'max_depth': 4}. Best is trial 10 with value: 0.8587205387205388.\u001b[0m\n"
     ]
    },
    {
     "name": "stdout",
     "output_type": "stream",
     "text": [
      "[0]\tvalidation_0-merror:0.27222\n",
      "Will train until validation_0-merror hasn't improved in 300 rounds.\n"
     ]
    },
    {
     "name": "stderr",
     "output_type": "stream",
     "text": [
      "C:\\Users\\FIRAT.KURT\\Anaconda3\\lib\\site-packages\\sklearn\\utils\\validation.py:73: DataConversionWarning: A column-vector y was passed when a 1d array was expected. Please change the shape of y to (n_samples, ), for example using ravel().\n",
      "  return f(**kwargs)\n"
     ]
    },
    {
     "name": "stdout",
     "output_type": "stream",
     "text": [
      "Stopping. Best iteration:\n",
      "[128]\tvalidation_0-merror:0.17222\n",
      "\n"
     ]
    },
    {
     "name": "stderr",
     "output_type": "stream",
     "text": [
      "C:\\Users\\FIRAT.KURT\\Anaconda3\\lib\\site-packages\\sklearn\\metrics\\_classification.py:1221: UndefinedMetricWarning: Precision is ill-defined and being set to 0.0 in labels with no predicted samples. Use `zero_division` parameter to control this behavior.\n",
      "  _warn_prf(average, modifier, msg_start, len(result))\n",
      "\u001b[32m[I 2021-10-31 22:59:56,766]\u001b[0m Trial 30 finished with value: 0.748561507936508 and parameters: {'learning_rate': 0.013179831379177233, 'reg_lambda': 0.0023519278212010527, 'reg_alpha': 11.17128732814833, 'subsample': 0.5754953956708145, 'colsample_bytree': 0.46075395437693023, 'max_depth': 7}. Best is trial 10 with value: 0.8587205387205388.\u001b[0m\n"
     ]
    },
    {
     "name": "stdout",
     "output_type": "stream",
     "text": [
      "[0]\tvalidation_0-merror:0.34444\n",
      "Will train until validation_0-merror hasn't improved in 300 rounds.\n"
     ]
    },
    {
     "name": "stderr",
     "output_type": "stream",
     "text": [
      "C:\\Users\\FIRAT.KURT\\Anaconda3\\lib\\site-packages\\sklearn\\utils\\validation.py:73: DataConversionWarning: A column-vector y was passed when a 1d array was expected. Please change the shape of y to (n_samples, ), for example using ravel().\n",
      "  return f(**kwargs)\n"
     ]
    },
    {
     "name": "stdout",
     "output_type": "stream",
     "text": [
      "Stopping. Best iteration:\n",
      "[539]\tvalidation_0-merror:0.16111\n",
      "\n"
     ]
    },
    {
     "name": "stderr",
     "output_type": "stream",
     "text": [
      "C:\\Users\\FIRAT.KURT\\Anaconda3\\lib\\site-packages\\sklearn\\metrics\\_classification.py:1221: UndefinedMetricWarning: Precision is ill-defined and being set to 0.0 in labels with no predicted samples. Use `zero_division` parameter to control this behavior.\n",
      "  _warn_prf(average, modifier, msg_start, len(result))\n",
      "\u001b[32m[I 2021-10-31 22:59:59,838]\u001b[0m Trial 31 finished with value: 0.7657142857142857 and parameters: {'learning_rate': 0.011021005492633474, 'reg_lambda': 0.24349570694517314, 'reg_alpha': 0.12383259583868354, 'subsample': 0.8218100844511727, 'colsample_bytree': 0.1784516447929837, 'max_depth': 6}. Best is trial 10 with value: 0.8587205387205388.\u001b[0m\n"
     ]
    },
    {
     "name": "stdout",
     "output_type": "stream",
     "text": [
      "[0]\tvalidation_0-merror:0.32778\n",
      "Will train until validation_0-merror hasn't improved in 300 rounds.\n"
     ]
    },
    {
     "name": "stderr",
     "output_type": "stream",
     "text": [
      "C:\\Users\\FIRAT.KURT\\Anaconda3\\lib\\site-packages\\sklearn\\utils\\validation.py:73: DataConversionWarning: A column-vector y was passed when a 1d array was expected. Please change the shape of y to (n_samples, ), for example using ravel().\n",
      "  return f(**kwargs)\n"
     ]
    },
    {
     "name": "stdout",
     "output_type": "stream",
     "text": [
      "Stopping. Best iteration:\n",
      "[504]\tvalidation_0-merror:0.15556\n",
      "\n"
     ]
    },
    {
     "name": "stderr",
     "output_type": "stream",
     "text": [
      "C:\\Users\\FIRAT.KURT\\Anaconda3\\lib\\site-packages\\sklearn\\metrics\\_classification.py:1221: UndefinedMetricWarning: Precision is ill-defined and being set to 0.0 in labels with no predicted samples. Use `zero_division` parameter to control this behavior.\n",
      "  _warn_prf(average, modifier, msg_start, len(result))\n",
      "\u001b[32m[I 2021-10-31 23:00:02,775]\u001b[0m Trial 32 finished with value: 0.7677461427461427 and parameters: {'learning_rate': 0.0121832949453161, 'reg_lambda': 0.19953240203194433, 'reg_alpha': 0.023039847677466297, 'subsample': 0.9214069320986522, 'colsample_bytree': 0.17769074446149613, 'max_depth': 6}. Best is trial 10 with value: 0.8587205387205388.\u001b[0m\n"
     ]
    },
    {
     "name": "stdout",
     "output_type": "stream",
     "text": [
      "[0]\tvalidation_0-merror:0.29444\n",
      "Will train until validation_0-merror hasn't improved in 300 rounds.\n"
     ]
    },
    {
     "name": "stderr",
     "output_type": "stream",
     "text": [
      "C:\\Users\\FIRAT.KURT\\Anaconda3\\lib\\site-packages\\sklearn\\utils\\validation.py:73: DataConversionWarning: A column-vector y was passed when a 1d array was expected. Please change the shape of y to (n_samples, ), for example using ravel().\n",
      "  return f(**kwargs)\n"
     ]
    },
    {
     "name": "stdout",
     "output_type": "stream",
     "text": [
      "Stopping. Best iteration:\n",
      "[112]\tvalidation_0-merror:0.15000\n",
      "\n"
     ]
    },
    {
     "name": "stderr",
     "output_type": "stream",
     "text": [
      "C:\\Users\\FIRAT.KURT\\Anaconda3\\lib\\site-packages\\sklearn\\metrics\\_classification.py:1221: UndefinedMetricWarning: Precision is ill-defined and being set to 0.0 in labels with no predicted samples. Use `zero_division` parameter to control this behavior.\n",
      "  _warn_prf(average, modifier, msg_start, len(result))\n",
      "\u001b[32m[I 2021-10-31 23:00:04,488]\u001b[0m Trial 33 finished with value: 0.7657707412862051 and parameters: {'learning_rate': 0.016393150559727086, 'reg_lambda': 0.014838031506304998, 'reg_alpha': 0.012161528905828113, 'subsample': 0.9697914377764942, 'colsample_bytree': 0.2586403693256196, 'max_depth': 5}. Best is trial 10 with value: 0.8587205387205388.\u001b[0m\n"
     ]
    },
    {
     "name": "stdout",
     "output_type": "stream",
     "text": [
      "[0]\tvalidation_0-merror:0.35000\n",
      "Will train until validation_0-merror hasn't improved in 300 rounds.\n"
     ]
    },
    {
     "name": "stderr",
     "output_type": "stream",
     "text": [
      "C:\\Users\\FIRAT.KURT\\Anaconda3\\lib\\site-packages\\sklearn\\utils\\validation.py:73: DataConversionWarning: A column-vector y was passed when a 1d array was expected. Please change the shape of y to (n_samples, ), for example using ravel().\n",
      "  return f(**kwargs)\n"
     ]
    },
    {
     "name": "stdout",
     "output_type": "stream",
     "text": [
      "Stopping. Best iteration:\n",
      "[92]\tvalidation_0-merror:0.15556\n",
      "\n"
     ]
    },
    {
     "name": "stderr",
     "output_type": "stream",
     "text": [
      "\u001b[32m[I 2021-10-31 23:00:05,574]\u001b[0m Trial 34 finished with value: 0.7096273291925465 and parameters: {'learning_rate': 0.12123979130525556, 'reg_lambda': 0.09587358108091144, 'reg_alpha': 0.6090097579679098, 'subsample': 0.9266812069984165, 'colsample_bytree': 0.17558468536585034, 'max_depth': 7}. Best is trial 10 with value: 0.8587205387205388.\u001b[0m\n"
     ]
    },
    {
     "name": "stdout",
     "output_type": "stream",
     "text": [
      "[0]\tvalidation_0-merror:0.30556\n",
      "Will train until validation_0-merror hasn't improved in 300 rounds.\n"
     ]
    },
    {
     "name": "stderr",
     "output_type": "stream",
     "text": [
      "C:\\Users\\FIRAT.KURT\\Anaconda3\\lib\\site-packages\\sklearn\\utils\\validation.py:73: DataConversionWarning: A column-vector y was passed when a 1d array was expected. Please change the shape of y to (n_samples, ), for example using ravel().\n",
      "  return f(**kwargs)\n"
     ]
    },
    {
     "name": "stdout",
     "output_type": "stream",
     "text": [
      "Stopping. Best iteration:\n",
      "[78]\tvalidation_0-merror:0.15556\n",
      "\n"
     ]
    },
    {
     "name": "stderr",
     "output_type": "stream",
     "text": [
      "C:\\Users\\FIRAT.KURT\\Anaconda3\\lib\\site-packages\\sklearn\\metrics\\_classification.py:1221: UndefinedMetricWarning: Precision is ill-defined and being set to 0.0 in labels with no predicted samples. Use `zero_division` parameter to control this behavior.\n",
      "  _warn_prf(average, modifier, msg_start, len(result))\n",
      "\u001b[32m[I 2021-10-31 23:00:07,086]\u001b[0m Trial 35 finished with value: 0.7547446109771863 and parameters: {'learning_rate': 0.03182517942139568, 'reg_lambda': 0.540026949070995, 'reg_alpha': 0.0007038041727583054, 'subsample': 0.9946549382516483, 'colsample_bytree': 0.2601937352495782, 'max_depth': 5}. Best is trial 10 with value: 0.8587205387205388.\u001b[0m\n"
     ]
    },
    {
     "name": "stdout",
     "output_type": "stream",
     "text": [
      "[0]\tvalidation_0-merror:0.23889\n",
      "Will train until validation_0-merror hasn't improved in 300 rounds.\n"
     ]
    },
    {
     "name": "stderr",
     "output_type": "stream",
     "text": [
      "C:\\Users\\FIRAT.KURT\\Anaconda3\\lib\\site-packages\\sklearn\\utils\\validation.py:73: DataConversionWarning: A column-vector y was passed when a 1d array was expected. Please change the shape of y to (n_samples, ), for example using ravel().\n",
      "  return f(**kwargs)\n"
     ]
    },
    {
     "name": "stdout",
     "output_type": "stream",
     "text": [
      "Stopping. Best iteration:\n",
      "[134]\tvalidation_0-merror:0.15000\n",
      "\n"
     ]
    },
    {
     "name": "stderr",
     "output_type": "stream",
     "text": [
      "C:\\Users\\FIRAT.KURT\\Anaconda3\\lib\\site-packages\\sklearn\\metrics\\_classification.py:1221: UndefinedMetricWarning: Precision is ill-defined and being set to 0.0 in labels with no predicted samples. Use `zero_division` parameter to control this behavior.\n",
      "  _warn_prf(average, modifier, msg_start, len(result))\n",
      "\u001b[32m[I 2021-10-31 23:00:09,370]\u001b[0m Trial 36 finished with value: 0.7351860909576732 and parameters: {'learning_rate': 0.012810901870097277, 'reg_lambda': 7.005117372525415e-05, 'reg_alpha': 0.04484336510901125, 'subsample': 0.8861488536732935, 'colsample_bytree': 0.32306419810694326, 'max_depth': 6}. Best is trial 10 with value: 0.8587205387205388.\u001b[0m\n"
     ]
    },
    {
     "name": "stdout",
     "output_type": "stream",
     "text": [
      "[0]\tvalidation_0-merror:0.42222\n",
      "Will train until validation_0-merror hasn't improved in 300 rounds.\n"
     ]
    },
    {
     "name": "stderr",
     "output_type": "stream",
     "text": [
      "C:\\Users\\FIRAT.KURT\\Anaconda3\\lib\\site-packages\\sklearn\\utils\\validation.py:73: DataConversionWarning: A column-vector y was passed when a 1d array was expected. Please change the shape of y to (n_samples, ), for example using ravel().\n",
      "  return f(**kwargs)\n"
     ]
    },
    {
     "name": "stdout",
     "output_type": "stream",
     "text": [
      "[1000]\tvalidation_0-merror:0.16111\n",
      "Stopping. Best iteration:\n",
      "[879]\tvalidation_0-merror:0.15556\n",
      "\n"
     ]
    },
    {
     "name": "stderr",
     "output_type": "stream",
     "text": [
      "\u001b[32m[I 2021-10-31 23:00:12,732]\u001b[0m Trial 37 finished with value: 0.7431495405179614 and parameters: {'learning_rate': 0.022825253844414556, 'reg_lambda': 0.005872598673112864, 'reg_alpha': 0.0034660575339286563, 'subsample': 0.6870534033242144, 'colsample_bytree': 0.10449557959887357, 'max_depth': 7}. Best is trial 10 with value: 0.8587205387205388.\u001b[0m\n"
     ]
    },
    {
     "name": "stdout",
     "output_type": "stream",
     "text": [
      "[0]\tvalidation_0-merror:0.23333\n",
      "Will train until validation_0-merror hasn't improved in 300 rounds.\n"
     ]
    },
    {
     "name": "stderr",
     "output_type": "stream",
     "text": [
      "C:\\Users\\FIRAT.KURT\\Anaconda3\\lib\\site-packages\\sklearn\\utils\\validation.py:73: DataConversionWarning: A column-vector y was passed when a 1d array was expected. Please change the shape of y to (n_samples, ), for example using ravel().\n",
      "  return f(**kwargs)\n"
     ]
    },
    {
     "name": "stdout",
     "output_type": "stream",
     "text": [
      "Stopping. Best iteration:\n",
      "[83]\tvalidation_0-merror:0.15000\n",
      "\n"
     ]
    },
    {
     "name": "stderr",
     "output_type": "stream",
     "text": [
      "\u001b[32m[I 2021-10-31 23:00:14,465]\u001b[0m Trial 38 finished with value: 0.723373127340824 and parameters: {'learning_rate': 0.017837618435372134, 'reg_lambda': 0.04933013390853798, 'reg_alpha': 0.00034626642276810077, 'subsample': 0.7920286296928922, 'colsample_bytree': 0.5881223186271496, 'max_depth': 5}. Best is trial 10 with value: 0.8587205387205388.\u001b[0m\n"
     ]
    },
    {
     "name": "stdout",
     "output_type": "stream",
     "text": [
      "[0]\tvalidation_0-merror:0.37778\n",
      "Will train until validation_0-merror hasn't improved in 300 rounds.\n"
     ]
    },
    {
     "name": "stderr",
     "output_type": "stream",
     "text": [
      "C:\\Users\\FIRAT.KURT\\Anaconda3\\lib\\site-packages\\sklearn\\utils\\validation.py:73: DataConversionWarning: A column-vector y was passed when a 1d array was expected. Please change the shape of y to (n_samples, ), for example using ravel().\n",
      "  return f(**kwargs)\n"
     ]
    },
    {
     "name": "stdout",
     "output_type": "stream",
     "text": [
      "Stopping. Best iteration:\n",
      "[169]\tvalidation_0-merror:0.17222\n",
      "\n"
     ]
    },
    {
     "name": "stderr",
     "output_type": "stream",
     "text": [
      "\u001b[32m[I 2021-10-31 23:00:15,715]\u001b[0m Trial 39 finished with value: 0.7671957671957671 and parameters: {'learning_rate': 0.0749131222491196, 'reg_lambda': 2.9714941474915455, 'reg_alpha': 0.007020158753075989, 'subsample': 0.4371158240982015, 'colsample_bytree': 0.13245088750312267, 'max_depth': 6}. Best is trial 10 with value: 0.8587205387205388.\u001b[0m\n"
     ]
    },
    {
     "name": "stdout",
     "output_type": "stream",
     "text": [
      "[0]\tvalidation_0-merror:0.37778\n",
      "Will train until validation_0-merror hasn't improved in 300 rounds.\n"
     ]
    },
    {
     "name": "stderr",
     "output_type": "stream",
     "text": [
      "C:\\Users\\FIRAT.KURT\\Anaconda3\\lib\\site-packages\\sklearn\\utils\\validation.py:73: DataConversionWarning: A column-vector y was passed when a 1d array was expected. Please change the shape of y to (n_samples, ), for example using ravel().\n",
      "  return f(**kwargs)\n"
     ]
    },
    {
     "name": "stdout",
     "output_type": "stream",
     "text": [
      "[1000]\tvalidation_0-merror:0.20000\n",
      "Stopping. Best iteration:\n",
      "[1423]\tvalidation_0-merror:0.17778\n",
      "\n"
     ]
    },
    {
     "name": "stderr",
     "output_type": "stream",
     "text": [
      "C:\\Users\\FIRAT.KURT\\Anaconda3\\lib\\site-packages\\sklearn\\metrics\\_classification.py:1221: UndefinedMetricWarning: Precision is ill-defined and being set to 0.0 in labels with no predicted samples. Use `zero_division` parameter to control this behavior.\n",
      "  _warn_prf(average, modifier, msg_start, len(result))\n",
      "\u001b[32m[I 2021-10-31 23:00:20,464]\u001b[0m Trial 40 finished with value: 0.7407234429667362 and parameters: {'learning_rate': 0.012516555239418806, 'reg_lambda': 81.2775233275489, 'reg_alpha': 0.6599809862759003, 'subsample': 0.5778843201741077, 'colsample_bytree': 0.1726047371877338, 'max_depth': 6}. Best is trial 10 with value: 0.8587205387205388.\u001b[0m\n"
     ]
    },
    {
     "name": "stdout",
     "output_type": "stream",
     "text": [
      "[0]\tvalidation_0-merror:0.38889\n",
      "Will train until validation_0-merror hasn't improved in 300 rounds.\n"
     ]
    },
    {
     "name": "stderr",
     "output_type": "stream",
     "text": [
      "C:\\Users\\FIRAT.KURT\\Anaconda3\\lib\\site-packages\\sklearn\\utils\\validation.py:73: DataConversionWarning: A column-vector y was passed when a 1d array was expected. Please change the shape of y to (n_samples, ), for example using ravel().\n",
      "  return f(**kwargs)\n"
     ]
    },
    {
     "name": "stdout",
     "output_type": "stream",
     "text": [
      "Stopping. Best iteration:\n",
      "[417]\tvalidation_0-merror:0.16111\n",
      "\n"
     ]
    },
    {
     "name": "stderr",
     "output_type": "stream",
     "text": [
      "\u001b[32m[I 2021-10-31 23:00:22,720]\u001b[0m Trial 41 finished with value: 0.7130462927876721 and parameters: {'learning_rate': 0.07806367881920087, 'reg_lambda': 4.69925804899515, 'reg_alpha': 0.009624335964605229, 'subsample': 0.45374732677007, 'colsample_bytree': 0.14061316564167736, 'max_depth': 6}. Best is trial 10 with value: 0.8587205387205388.\u001b[0m\n"
     ]
    },
    {
     "name": "stdout",
     "output_type": "stream",
     "text": [
      "[0]\tvalidation_0-merror:0.38333\n",
      "Will train until validation_0-merror hasn't improved in 300 rounds.\n"
     ]
    },
    {
     "name": "stderr",
     "output_type": "stream",
     "text": [
      "C:\\Users\\FIRAT.KURT\\Anaconda3\\lib\\site-packages\\sklearn\\utils\\validation.py:73: DataConversionWarning: A column-vector y was passed when a 1d array was expected. Please change the shape of y to (n_samples, ), for example using ravel().\n",
      "  return f(**kwargs)\n"
     ]
    },
    {
     "name": "stdout",
     "output_type": "stream",
     "text": [
      "Stopping. Best iteration:\n",
      "[50]\tvalidation_0-merror:0.16667\n",
      "\n"
     ]
    },
    {
     "name": "stderr",
     "output_type": "stream",
     "text": [
      "\u001b[32m[I 2021-10-31 23:00:23,610]\u001b[0m Trial 42 finished with value: 0.7632205513784461 and parameters: {'learning_rate': 0.11072242236196106, 'reg_lambda': 1.7164623887083283, 'reg_alpha': 0.06283964881749182, 'subsample': 0.2848942725445549, 'colsample_bytree': 0.22630565258737026, 'max_depth': 7}. Best is trial 10 with value: 0.8587205387205388.\u001b[0m\n"
     ]
    },
    {
     "name": "stdout",
     "output_type": "stream",
     "text": [
      "[0]\tvalidation_0-merror:0.41667\n",
      "Will train until validation_0-merror hasn't improved in 300 rounds.\n"
     ]
    },
    {
     "name": "stderr",
     "output_type": "stream",
     "text": [
      "C:\\Users\\FIRAT.KURT\\Anaconda3\\lib\\site-packages\\sklearn\\utils\\validation.py:73: DataConversionWarning: A column-vector y was passed when a 1d array was expected. Please change the shape of y to (n_samples, ), for example using ravel().\n",
      "  return f(**kwargs)\n"
     ]
    },
    {
     "name": "stdout",
     "output_type": "stream",
     "text": [
      "Stopping. Best iteration:\n",
      "[167]\tvalidation_0-merror:0.15556\n",
      "\n"
     ]
    },
    {
     "name": "stderr",
     "output_type": "stream",
     "text": [
      "\u001b[32m[I 2021-10-31 23:00:24,686]\u001b[0m Trial 43 finished with value: 0.719172319163258 and parameters: {'learning_rate': 0.15122467065467682, 'reg_lambda': 17.038826791368578, 'reg_alpha': 0.002515749191852923, 'subsample': 0.35004671109195806, 'colsample_bytree': 0.14721070957649723, 'max_depth': 5}. Best is trial 10 with value: 0.8587205387205388.\u001b[0m\n"
     ]
    },
    {
     "name": "stdout",
     "output_type": "stream",
     "text": [
      "[0]\tvalidation_0-merror:0.30556\n",
      "Will train until validation_0-merror hasn't improved in 300 rounds.\n"
     ]
    },
    {
     "name": "stderr",
     "output_type": "stream",
     "text": [
      "C:\\Users\\FIRAT.KURT\\Anaconda3\\lib\\site-packages\\sklearn\\utils\\validation.py:73: DataConversionWarning: A column-vector y was passed when a 1d array was expected. Please change the shape of y to (n_samples, ), for example using ravel().\n",
      "  return f(**kwargs)\n"
     ]
    },
    {
     "name": "stdout",
     "output_type": "stream",
     "text": [
      "Stopping. Best iteration:\n",
      "[58]\tvalidation_0-merror:0.15556\n",
      "\n"
     ]
    },
    {
     "name": "stderr",
     "output_type": "stream",
     "text": [
      "C:\\Users\\FIRAT.KURT\\Anaconda3\\lib\\site-packages\\sklearn\\metrics\\_classification.py:1221: UndefinedMetricWarning: Precision is ill-defined and being set to 0.0 in labels with no predicted samples. Use `zero_division` parameter to control this behavior.\n",
      "  _warn_prf(average, modifier, msg_start, len(result))\n",
      "\u001b[32m[I 2021-10-31 23:00:25,752]\u001b[0m Trial 44 finished with value: 0.7594246031746033 and parameters: {'learning_rate': 0.03799490800613846, 'reg_lambda': 0.37510245995783814, 'reg_alpha': 0.005831812192055732, 'subsample': 0.5242381834187345, 'colsample_bytree': 0.274461416358617, 'max_depth': 6}. Best is trial 10 with value: 0.8587205387205388.\u001b[0m\n"
     ]
    },
    {
     "name": "stdout",
     "output_type": "stream",
     "text": [
      "[0]\tvalidation_0-merror:0.35556\n",
      "Will train until validation_0-merror hasn't improved in 300 rounds.\n"
     ]
    },
    {
     "name": "stderr",
     "output_type": "stream",
     "text": [
      "C:\\Users\\FIRAT.KURT\\Anaconda3\\lib\\site-packages\\sklearn\\utils\\validation.py:73: DataConversionWarning: A column-vector y was passed when a 1d array was expected. Please change the shape of y to (n_samples, ), for example using ravel().\n",
      "  return f(**kwargs)\n"
     ]
    },
    {
     "name": "stdout",
     "output_type": "stream",
     "text": [
      "Stopping. Best iteration:\n",
      "[203]\tvalidation_0-merror:0.17778\n",
      "\n"
     ]
    },
    {
     "name": "stderr",
     "output_type": "stream",
     "text": [
      "C:\\Users\\FIRAT.KURT\\Anaconda3\\lib\\site-packages\\sklearn\\metrics\\_classification.py:1221: UndefinedMetricWarning: Precision is ill-defined and being set to 0.0 in labels with no predicted samples. Use `zero_division` parameter to control this behavior.\n",
      "  _warn_prf(average, modifier, msg_start, len(result))\n",
      "\u001b[32m[I 2021-10-31 23:00:26,650]\u001b[0m Trial 45 finished with value: 0.7442562131235473 and parameters: {'learning_rate': 0.07466243667409286, 'reg_lambda': 0.017580904723854263, 'reg_alpha': 8.729035814023256, 'subsample': 0.4336067444192899, 'colsample_bytree': 0.19025790812662505, 'max_depth': 6}. Best is trial 10 with value: 0.8587205387205388.\u001b[0m\n"
     ]
    },
    {
     "name": "stdout",
     "output_type": "stream",
     "text": [
      "[0]\tvalidation_0-merror:0.30000\n",
      "Will train until validation_0-merror hasn't improved in 300 rounds.\n"
     ]
    },
    {
     "name": "stderr",
     "output_type": "stream",
     "text": [
      "C:\\Users\\FIRAT.KURT\\Anaconda3\\lib\\site-packages\\sklearn\\utils\\validation.py:73: DataConversionWarning: A column-vector y was passed when a 1d array was expected. Please change the shape of y to (n_samples, ), for example using ravel().\n",
      "  return f(**kwargs)\n"
     ]
    },
    {
     "name": "stdout",
     "output_type": "stream",
     "text": [
      "Stopping. Best iteration:\n",
      "[398]\tvalidation_0-merror:0.14444\n",
      "\n"
     ]
    },
    {
     "name": "stderr",
     "output_type": "stream",
     "text": [
      "C:\\Users\\FIRAT.KURT\\Anaconda3\\lib\\site-packages\\sklearn\\metrics\\_classification.py:1221: UndefinedMetricWarning: Precision is ill-defined and being set to 0.0 in labels with no predicted samples. Use `zero_division` parameter to control this behavior.\n",
      "  _warn_prf(average, modifier, msg_start, len(result))\n",
      "\u001b[32m[I 2021-10-31 23:00:28,395]\u001b[0m Trial 46 finished with value: 0.7098204264870932 and parameters: {'learning_rate': 0.015398677253416702, 'reg_lambda': 0.09606854567779594, 'reg_alpha': 0.000185866799184199, 'subsample': 0.22194408190069137, 'colsample_bytree': 0.3693318801662532, 'max_depth': 3}. Best is trial 10 with value: 0.8587205387205388.\u001b[0m\n"
     ]
    },
    {
     "name": "stdout",
     "output_type": "stream",
     "text": [
      "[0]\tvalidation_0-merror:0.30000\n",
      "Will train until validation_0-merror hasn't improved in 300 rounds.\n"
     ]
    },
    {
     "name": "stderr",
     "output_type": "stream",
     "text": [
      "C:\\Users\\FIRAT.KURT\\Anaconda3\\lib\\site-packages\\sklearn\\utils\\validation.py:73: DataConversionWarning: A column-vector y was passed when a 1d array was expected. Please change the shape of y to (n_samples, ), for example using ravel().\n",
      "  return f(**kwargs)\n"
     ]
    },
    {
     "name": "stdout",
     "output_type": "stream",
     "text": [
      "Stopping. Best iteration:\n",
      "[34]\tvalidation_0-merror:0.15000\n",
      "\n"
     ]
    },
    {
     "name": "stderr",
     "output_type": "stream",
     "text": [
      "\u001b[32m[I 2021-10-31 23:00:29,348]\u001b[0m Trial 47 finished with value: 0.7222237638904305 and parameters: {'learning_rate': 0.1805399977988383, 'reg_lambda': 1.3854828276307283, 'reg_alpha': 0.2902927159016617, 'subsample': 0.293655817218813, 'colsample_bytree': 0.3007991679128174, 'max_depth': 7}. Best is trial 10 with value: 0.8587205387205388.\u001b[0m\n"
     ]
    },
    {
     "name": "stdout",
     "output_type": "stream",
     "text": [
      "[0]\tvalidation_0-merror:0.38333\n",
      "Will train until validation_0-merror hasn't improved in 300 rounds.\n"
     ]
    },
    {
     "name": "stderr",
     "output_type": "stream",
     "text": [
      "C:\\Users\\FIRAT.KURT\\Anaconda3\\lib\\site-packages\\sklearn\\utils\\validation.py:73: DataConversionWarning: A column-vector y was passed when a 1d array was expected. Please change the shape of y to (n_samples, ), for example using ravel().\n",
      "  return f(**kwargs)\n"
     ]
    },
    {
     "name": "stdout",
     "output_type": "stream",
     "text": [
      "Stopping. Best iteration:\n",
      "[382]\tvalidation_0-merror:0.16111\n",
      "\n"
     ]
    },
    {
     "name": "stderr",
     "output_type": "stream",
     "text": [
      "\u001b[32m[I 2021-10-31 23:00:31,147]\u001b[0m Trial 48 finished with value: 0.7205415149568073 and parameters: {'learning_rate': 0.05830660929407082, 'reg_lambda': 24.47305439668056, 'reg_alpha': 0.0012109908442206497, 'subsample': 0.3926207541596586, 'colsample_bytree': 0.131848954851361, 'max_depth': 7}. Best is trial 10 with value: 0.8587205387205388.\u001b[0m\n"
     ]
    },
    {
     "name": "stdout",
     "output_type": "stream",
     "text": [
      "[0]\tvalidation_0-merror:0.51111\n",
      "Will train until validation_0-merror hasn't improved in 300 rounds.\n"
     ]
    },
    {
     "name": "stderr",
     "output_type": "stream",
     "text": [
      "C:\\Users\\FIRAT.KURT\\Anaconda3\\lib\\site-packages\\sklearn\\utils\\validation.py:73: DataConversionWarning: A column-vector y was passed when a 1d array was expected. Please change the shape of y to (n_samples, ), for example using ravel().\n",
      "  return f(**kwargs)\n"
     ]
    },
    {
     "name": "stdout",
     "output_type": "stream",
     "text": [
      "Stopping. Best iteration:\n",
      "[10]\tvalidation_0-merror:0.45000\n",
      "\n"
     ]
    },
    {
     "name": "stderr",
     "output_type": "stream",
     "text": [
      "C:\\Users\\FIRAT.KURT\\Anaconda3\\lib\\site-packages\\sklearn\\metrics\\_classification.py:1221: UndefinedMetricWarning: Precision is ill-defined and being set to 0.0 in labels with no predicted samples. Use `zero_division` parameter to control this behavior.\n",
      "  _warn_prf(average, modifier, msg_start, len(result))\n",
      "\u001b[32m[I 2021-10-31 23:00:32,168]\u001b[0m Trial 49 finished with value: 0.17379336832671874 and parameters: {'learning_rate': 0.01463222302141779, 'reg_lambda': 0.001672242860103889, 'reg_alpha': 90.69589324110983, 'subsample': 0.636283037052918, 'colsample_bytree': 0.8214782615344693, 'max_depth': 5}. Best is trial 10 with value: 0.8587205387205388.\u001b[0m\n"
     ]
    },
    {
     "name": "stdout",
     "output_type": "stream",
     "text": [
      "Number of finished trials: 50\n",
      "Best trial: {'learning_rate': 0.04586090618716276, 'reg_lambda': 0.06826522569951803, 'reg_alpha': 1.7871177682650604e-06, 'subsample': 0.40807207936359097, 'colsample_bytree': 0.3135487605486668, 'max_depth': 7}\n"
     ]
    }
   ],
   "source": [
    "import optuna\n",
    "study = optuna.create_study(direction='maximize')\n",
    "study.optimize(run, n_trials=50)\n",
    "print('Number of finished trials:', len(study.trials))\n",
    "print('Best trial:', study.best_trial.params)\n"
   ]
  },
  {
   "cell_type": "code",
   "execution_count": null,
   "metadata": {},
   "outputs": [],
   "source": []
  }
 ],
 "metadata": {
  "interpreter": {
   "hash": "6b89374243ff63cd660e30f2631bca1860c901eabc2f259f1e518e77cf1ca8e5"
  },
  "kernelspec": {
   "display_name": "Python 3.8.8 64-bit ('base': conda)",
   "name": "python3"
  },
  "language_info": {
   "codemirror_mode": {
    "name": "ipython",
    "version": 3
   },
   "file_extension": ".py",
   "mimetype": "text/x-python",
   "name": "python",
   "nbconvert_exporter": "python",
   "pygments_lexer": "ipython3",
   "version": "3.8.8"
  },
  "orig_nbformat": 4
 },
 "nbformat": 4,
 "nbformat_minor": 2
}
